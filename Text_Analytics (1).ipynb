{
  "nbformat": 4,
  "nbformat_minor": 0,
  "metadata": {
    "colab": {
      "provenance": []
    },
    "kernelspec": {
      "name": "python3",
      "display_name": "Python 3"
    },
    "language_info": {
      "name": "python"
    },
    "widgets": {
      "application/vnd.jupyter.widget-state+json": {
        "ec3d8290174e4a59b7f923d753f13476": {
          "model_module": "@jupyter-widgets/controls",
          "model_name": "HBoxModel",
          "model_module_version": "1.5.0",
          "state": {
            "_dom_classes": [],
            "_model_module": "@jupyter-widgets/controls",
            "_model_module_version": "1.5.0",
            "_model_name": "HBoxModel",
            "_view_count": null,
            "_view_module": "@jupyter-widgets/controls",
            "_view_module_version": "1.5.0",
            "_view_name": "HBoxView",
            "box_style": "",
            "children": [
              "IPY_MODEL_07a98a4ac90e422b88b5125a5a14c2b1",
              "IPY_MODEL_8e53fc775f7d44c6b6baca4708db2181",
              "IPY_MODEL_dce228177657472e92271c2e49bd6282"
            ],
            "layout": "IPY_MODEL_84ef83430d8b44debd804b032e142cb8"
          }
        },
        "07a98a4ac90e422b88b5125a5a14c2b1": {
          "model_module": "@jupyter-widgets/controls",
          "model_name": "HTMLModel",
          "model_module_version": "1.5.0",
          "state": {
            "_dom_classes": [],
            "_model_module": "@jupyter-widgets/controls",
            "_model_module_version": "1.5.0",
            "_model_name": "HTMLModel",
            "_view_count": null,
            "_view_module": "@jupyter-widgets/controls",
            "_view_module_version": "1.5.0",
            "_view_name": "HTMLView",
            "description": "",
            "description_tooltip": null,
            "layout": "IPY_MODEL_e6520b976a0545b6b97bf23f36398c99",
            "placeholder": "​",
            "style": "IPY_MODEL_bb41759aca1041fd9e663b23c7b80be9",
            "value": "Downloading https://raw.githubusercontent.com/stanfordnlp/stanza-resources/main/resources_1.4.1.json: "
          }
        },
        "8e53fc775f7d44c6b6baca4708db2181": {
          "model_module": "@jupyter-widgets/controls",
          "model_name": "FloatProgressModel",
          "model_module_version": "1.5.0",
          "state": {
            "_dom_classes": [],
            "_model_module": "@jupyter-widgets/controls",
            "_model_module_version": "1.5.0",
            "_model_name": "FloatProgressModel",
            "_view_count": null,
            "_view_module": "@jupyter-widgets/controls",
            "_view_module_version": "1.5.0",
            "_view_name": "ProgressView",
            "bar_style": "success",
            "description": "",
            "description_tooltip": null,
            "layout": "IPY_MODEL_c6035b87c9354781af5ac29e6bc078c6",
            "max": 28918,
            "min": 0,
            "orientation": "horizontal",
            "style": "IPY_MODEL_52a134e990304303948b556b7a75e3e8",
            "value": 28918
          }
        },
        "dce228177657472e92271c2e49bd6282": {
          "model_module": "@jupyter-widgets/controls",
          "model_name": "HTMLModel",
          "model_module_version": "1.5.0",
          "state": {
            "_dom_classes": [],
            "_model_module": "@jupyter-widgets/controls",
            "_model_module_version": "1.5.0",
            "_model_name": "HTMLModel",
            "_view_count": null,
            "_view_module": "@jupyter-widgets/controls",
            "_view_module_version": "1.5.0",
            "_view_name": "HTMLView",
            "description": "",
            "description_tooltip": null,
            "layout": "IPY_MODEL_d45e1b63b9074c518a5f33cf212b5d22",
            "placeholder": "​",
            "style": "IPY_MODEL_18250935e7204b06be6fdadbbfe92f68",
            "value": " 193k/? [00:00&lt;00:00, 4.42MB/s]"
          }
        },
        "84ef83430d8b44debd804b032e142cb8": {
          "model_module": "@jupyter-widgets/base",
          "model_name": "LayoutModel",
          "model_module_version": "1.2.0",
          "state": {
            "_model_module": "@jupyter-widgets/base",
            "_model_module_version": "1.2.0",
            "_model_name": "LayoutModel",
            "_view_count": null,
            "_view_module": "@jupyter-widgets/base",
            "_view_module_version": "1.2.0",
            "_view_name": "LayoutView",
            "align_content": null,
            "align_items": null,
            "align_self": null,
            "border": null,
            "bottom": null,
            "display": null,
            "flex": null,
            "flex_flow": null,
            "grid_area": null,
            "grid_auto_columns": null,
            "grid_auto_flow": null,
            "grid_auto_rows": null,
            "grid_column": null,
            "grid_gap": null,
            "grid_row": null,
            "grid_template_areas": null,
            "grid_template_columns": null,
            "grid_template_rows": null,
            "height": null,
            "justify_content": null,
            "justify_items": null,
            "left": null,
            "margin": null,
            "max_height": null,
            "max_width": null,
            "min_height": null,
            "min_width": null,
            "object_fit": null,
            "object_position": null,
            "order": null,
            "overflow": null,
            "overflow_x": null,
            "overflow_y": null,
            "padding": null,
            "right": null,
            "top": null,
            "visibility": null,
            "width": null
          }
        },
        "e6520b976a0545b6b97bf23f36398c99": {
          "model_module": "@jupyter-widgets/base",
          "model_name": "LayoutModel",
          "model_module_version": "1.2.0",
          "state": {
            "_model_module": "@jupyter-widgets/base",
            "_model_module_version": "1.2.0",
            "_model_name": "LayoutModel",
            "_view_count": null,
            "_view_module": "@jupyter-widgets/base",
            "_view_module_version": "1.2.0",
            "_view_name": "LayoutView",
            "align_content": null,
            "align_items": null,
            "align_self": null,
            "border": null,
            "bottom": null,
            "display": null,
            "flex": null,
            "flex_flow": null,
            "grid_area": null,
            "grid_auto_columns": null,
            "grid_auto_flow": null,
            "grid_auto_rows": null,
            "grid_column": null,
            "grid_gap": null,
            "grid_row": null,
            "grid_template_areas": null,
            "grid_template_columns": null,
            "grid_template_rows": null,
            "height": null,
            "justify_content": null,
            "justify_items": null,
            "left": null,
            "margin": null,
            "max_height": null,
            "max_width": null,
            "min_height": null,
            "min_width": null,
            "object_fit": null,
            "object_position": null,
            "order": null,
            "overflow": null,
            "overflow_x": null,
            "overflow_y": null,
            "padding": null,
            "right": null,
            "top": null,
            "visibility": null,
            "width": null
          }
        },
        "bb41759aca1041fd9e663b23c7b80be9": {
          "model_module": "@jupyter-widgets/controls",
          "model_name": "DescriptionStyleModel",
          "model_module_version": "1.5.0",
          "state": {
            "_model_module": "@jupyter-widgets/controls",
            "_model_module_version": "1.5.0",
            "_model_name": "DescriptionStyleModel",
            "_view_count": null,
            "_view_module": "@jupyter-widgets/base",
            "_view_module_version": "1.2.0",
            "_view_name": "StyleView",
            "description_width": ""
          }
        },
        "c6035b87c9354781af5ac29e6bc078c6": {
          "model_module": "@jupyter-widgets/base",
          "model_name": "LayoutModel",
          "model_module_version": "1.2.0",
          "state": {
            "_model_module": "@jupyter-widgets/base",
            "_model_module_version": "1.2.0",
            "_model_name": "LayoutModel",
            "_view_count": null,
            "_view_module": "@jupyter-widgets/base",
            "_view_module_version": "1.2.0",
            "_view_name": "LayoutView",
            "align_content": null,
            "align_items": null,
            "align_self": null,
            "border": null,
            "bottom": null,
            "display": null,
            "flex": null,
            "flex_flow": null,
            "grid_area": null,
            "grid_auto_columns": null,
            "grid_auto_flow": null,
            "grid_auto_rows": null,
            "grid_column": null,
            "grid_gap": null,
            "grid_row": null,
            "grid_template_areas": null,
            "grid_template_columns": null,
            "grid_template_rows": null,
            "height": null,
            "justify_content": null,
            "justify_items": null,
            "left": null,
            "margin": null,
            "max_height": null,
            "max_width": null,
            "min_height": null,
            "min_width": null,
            "object_fit": null,
            "object_position": null,
            "order": null,
            "overflow": null,
            "overflow_x": null,
            "overflow_y": null,
            "padding": null,
            "right": null,
            "top": null,
            "visibility": null,
            "width": null
          }
        },
        "52a134e990304303948b556b7a75e3e8": {
          "model_module": "@jupyter-widgets/controls",
          "model_name": "ProgressStyleModel",
          "model_module_version": "1.5.0",
          "state": {
            "_model_module": "@jupyter-widgets/controls",
            "_model_module_version": "1.5.0",
            "_model_name": "ProgressStyleModel",
            "_view_count": null,
            "_view_module": "@jupyter-widgets/base",
            "_view_module_version": "1.2.0",
            "_view_name": "StyleView",
            "bar_color": null,
            "description_width": ""
          }
        },
        "d45e1b63b9074c518a5f33cf212b5d22": {
          "model_module": "@jupyter-widgets/base",
          "model_name": "LayoutModel",
          "model_module_version": "1.2.0",
          "state": {
            "_model_module": "@jupyter-widgets/base",
            "_model_module_version": "1.2.0",
            "_model_name": "LayoutModel",
            "_view_count": null,
            "_view_module": "@jupyter-widgets/base",
            "_view_module_version": "1.2.0",
            "_view_name": "LayoutView",
            "align_content": null,
            "align_items": null,
            "align_self": null,
            "border": null,
            "bottom": null,
            "display": null,
            "flex": null,
            "flex_flow": null,
            "grid_area": null,
            "grid_auto_columns": null,
            "grid_auto_flow": null,
            "grid_auto_rows": null,
            "grid_column": null,
            "grid_gap": null,
            "grid_row": null,
            "grid_template_areas": null,
            "grid_template_columns": null,
            "grid_template_rows": null,
            "height": null,
            "justify_content": null,
            "justify_items": null,
            "left": null,
            "margin": null,
            "max_height": null,
            "max_width": null,
            "min_height": null,
            "min_width": null,
            "object_fit": null,
            "object_position": null,
            "order": null,
            "overflow": null,
            "overflow_x": null,
            "overflow_y": null,
            "padding": null,
            "right": null,
            "top": null,
            "visibility": null,
            "width": null
          }
        },
        "18250935e7204b06be6fdadbbfe92f68": {
          "model_module": "@jupyter-widgets/controls",
          "model_name": "DescriptionStyleModel",
          "model_module_version": "1.5.0",
          "state": {
            "_model_module": "@jupyter-widgets/controls",
            "_model_module_version": "1.5.0",
            "_model_name": "DescriptionStyleModel",
            "_view_count": null,
            "_view_module": "@jupyter-widgets/base",
            "_view_module_version": "1.2.0",
            "_view_name": "StyleView",
            "description_width": ""
          }
        },
        "2f75c696365c4859873b9182c27ba8b6": {
          "model_module": "@jupyter-widgets/controls",
          "model_name": "HBoxModel",
          "model_module_version": "1.5.0",
          "state": {
            "_dom_classes": [],
            "_model_module": "@jupyter-widgets/controls",
            "_model_module_version": "1.5.0",
            "_model_name": "HBoxModel",
            "_view_count": null,
            "_view_module": "@jupyter-widgets/controls",
            "_view_module_version": "1.5.0",
            "_view_name": "HBoxView",
            "box_style": "",
            "children": [
              "IPY_MODEL_cd742cb6746b444881386b31d92ed5ac",
              "IPY_MODEL_190e58c50a7f4b97a4276968cd5ad874",
              "IPY_MODEL_6318c2eb62c44ea3840f223cfc7e520d"
            ],
            "layout": "IPY_MODEL_5406e218f75a466fb6177634a884829c"
          }
        },
        "cd742cb6746b444881386b31d92ed5ac": {
          "model_module": "@jupyter-widgets/controls",
          "model_name": "HTMLModel",
          "model_module_version": "1.5.0",
          "state": {
            "_dom_classes": [],
            "_model_module": "@jupyter-widgets/controls",
            "_model_module_version": "1.5.0",
            "_model_name": "HTMLModel",
            "_view_count": null,
            "_view_module": "@jupyter-widgets/controls",
            "_view_module_version": "1.5.0",
            "_view_name": "HTMLView",
            "description": "",
            "description_tooltip": null,
            "layout": "IPY_MODEL_39e478fa0c8a476690f4b69891b09216",
            "placeholder": "​",
            "style": "IPY_MODEL_bdad8002b3ad4d6c8fbadd9653d04a48",
            "value": "Downloading https://huggingface.co/stanfordnlp/stanza-en/resolve/v1.4.1/models/default.zip: 100%"
          }
        },
        "190e58c50a7f4b97a4276968cd5ad874": {
          "model_module": "@jupyter-widgets/controls",
          "model_name": "FloatProgressModel",
          "model_module_version": "1.5.0",
          "state": {
            "_dom_classes": [],
            "_model_module": "@jupyter-widgets/controls",
            "_model_module_version": "1.5.0",
            "_model_name": "FloatProgressModel",
            "_view_count": null,
            "_view_module": "@jupyter-widgets/controls",
            "_view_module_version": "1.5.0",
            "_view_name": "ProgressView",
            "bar_style": "success",
            "description": "",
            "description_tooltip": null,
            "layout": "IPY_MODEL_22101b2bc73547d092d80a9832339c58",
            "max": 561333907,
            "min": 0,
            "orientation": "horizontal",
            "style": "IPY_MODEL_59a06518f7ae4f4bbed26c5ea93d9f28",
            "value": 561333907
          }
        },
        "6318c2eb62c44ea3840f223cfc7e520d": {
          "model_module": "@jupyter-widgets/controls",
          "model_name": "HTMLModel",
          "model_module_version": "1.5.0",
          "state": {
            "_dom_classes": [],
            "_model_module": "@jupyter-widgets/controls",
            "_model_module_version": "1.5.0",
            "_model_name": "HTMLModel",
            "_view_count": null,
            "_view_module": "@jupyter-widgets/controls",
            "_view_module_version": "1.5.0",
            "_view_name": "HTMLView",
            "description": "",
            "description_tooltip": null,
            "layout": "IPY_MODEL_98083d6054e446e4b65791905caaccf6",
            "placeholder": "​",
            "style": "IPY_MODEL_bd10cc68932d4619ad278a42a8e831e6",
            "value": " 561M/561M [00:09&lt;00:00, 64.6MB/s]"
          }
        },
        "5406e218f75a466fb6177634a884829c": {
          "model_module": "@jupyter-widgets/base",
          "model_name": "LayoutModel",
          "model_module_version": "1.2.0",
          "state": {
            "_model_module": "@jupyter-widgets/base",
            "_model_module_version": "1.2.0",
            "_model_name": "LayoutModel",
            "_view_count": null,
            "_view_module": "@jupyter-widgets/base",
            "_view_module_version": "1.2.0",
            "_view_name": "LayoutView",
            "align_content": null,
            "align_items": null,
            "align_self": null,
            "border": null,
            "bottom": null,
            "display": null,
            "flex": null,
            "flex_flow": null,
            "grid_area": null,
            "grid_auto_columns": null,
            "grid_auto_flow": null,
            "grid_auto_rows": null,
            "grid_column": null,
            "grid_gap": null,
            "grid_row": null,
            "grid_template_areas": null,
            "grid_template_columns": null,
            "grid_template_rows": null,
            "height": null,
            "justify_content": null,
            "justify_items": null,
            "left": null,
            "margin": null,
            "max_height": null,
            "max_width": null,
            "min_height": null,
            "min_width": null,
            "object_fit": null,
            "object_position": null,
            "order": null,
            "overflow": null,
            "overflow_x": null,
            "overflow_y": null,
            "padding": null,
            "right": null,
            "top": null,
            "visibility": null,
            "width": null
          }
        },
        "39e478fa0c8a476690f4b69891b09216": {
          "model_module": "@jupyter-widgets/base",
          "model_name": "LayoutModel",
          "model_module_version": "1.2.0",
          "state": {
            "_model_module": "@jupyter-widgets/base",
            "_model_module_version": "1.2.0",
            "_model_name": "LayoutModel",
            "_view_count": null,
            "_view_module": "@jupyter-widgets/base",
            "_view_module_version": "1.2.0",
            "_view_name": "LayoutView",
            "align_content": null,
            "align_items": null,
            "align_self": null,
            "border": null,
            "bottom": null,
            "display": null,
            "flex": null,
            "flex_flow": null,
            "grid_area": null,
            "grid_auto_columns": null,
            "grid_auto_flow": null,
            "grid_auto_rows": null,
            "grid_column": null,
            "grid_gap": null,
            "grid_row": null,
            "grid_template_areas": null,
            "grid_template_columns": null,
            "grid_template_rows": null,
            "height": null,
            "justify_content": null,
            "justify_items": null,
            "left": null,
            "margin": null,
            "max_height": null,
            "max_width": null,
            "min_height": null,
            "min_width": null,
            "object_fit": null,
            "object_position": null,
            "order": null,
            "overflow": null,
            "overflow_x": null,
            "overflow_y": null,
            "padding": null,
            "right": null,
            "top": null,
            "visibility": null,
            "width": null
          }
        },
        "bdad8002b3ad4d6c8fbadd9653d04a48": {
          "model_module": "@jupyter-widgets/controls",
          "model_name": "DescriptionStyleModel",
          "model_module_version": "1.5.0",
          "state": {
            "_model_module": "@jupyter-widgets/controls",
            "_model_module_version": "1.5.0",
            "_model_name": "DescriptionStyleModel",
            "_view_count": null,
            "_view_module": "@jupyter-widgets/base",
            "_view_module_version": "1.2.0",
            "_view_name": "StyleView",
            "description_width": ""
          }
        },
        "22101b2bc73547d092d80a9832339c58": {
          "model_module": "@jupyter-widgets/base",
          "model_name": "LayoutModel",
          "model_module_version": "1.2.0",
          "state": {
            "_model_module": "@jupyter-widgets/base",
            "_model_module_version": "1.2.0",
            "_model_name": "LayoutModel",
            "_view_count": null,
            "_view_module": "@jupyter-widgets/base",
            "_view_module_version": "1.2.0",
            "_view_name": "LayoutView",
            "align_content": null,
            "align_items": null,
            "align_self": null,
            "border": null,
            "bottom": null,
            "display": null,
            "flex": null,
            "flex_flow": null,
            "grid_area": null,
            "grid_auto_columns": null,
            "grid_auto_flow": null,
            "grid_auto_rows": null,
            "grid_column": null,
            "grid_gap": null,
            "grid_row": null,
            "grid_template_areas": null,
            "grid_template_columns": null,
            "grid_template_rows": null,
            "height": null,
            "justify_content": null,
            "justify_items": null,
            "left": null,
            "margin": null,
            "max_height": null,
            "max_width": null,
            "min_height": null,
            "min_width": null,
            "object_fit": null,
            "object_position": null,
            "order": null,
            "overflow": null,
            "overflow_x": null,
            "overflow_y": null,
            "padding": null,
            "right": null,
            "top": null,
            "visibility": null,
            "width": null
          }
        },
        "59a06518f7ae4f4bbed26c5ea93d9f28": {
          "model_module": "@jupyter-widgets/controls",
          "model_name": "ProgressStyleModel",
          "model_module_version": "1.5.0",
          "state": {
            "_model_module": "@jupyter-widgets/controls",
            "_model_module_version": "1.5.0",
            "_model_name": "ProgressStyleModel",
            "_view_count": null,
            "_view_module": "@jupyter-widgets/base",
            "_view_module_version": "1.2.0",
            "_view_name": "StyleView",
            "bar_color": null,
            "description_width": ""
          }
        },
        "98083d6054e446e4b65791905caaccf6": {
          "model_module": "@jupyter-widgets/base",
          "model_name": "LayoutModel",
          "model_module_version": "1.2.0",
          "state": {
            "_model_module": "@jupyter-widgets/base",
            "_model_module_version": "1.2.0",
            "_model_name": "LayoutModel",
            "_view_count": null,
            "_view_module": "@jupyter-widgets/base",
            "_view_module_version": "1.2.0",
            "_view_name": "LayoutView",
            "align_content": null,
            "align_items": null,
            "align_self": null,
            "border": null,
            "bottom": null,
            "display": null,
            "flex": null,
            "flex_flow": null,
            "grid_area": null,
            "grid_auto_columns": null,
            "grid_auto_flow": null,
            "grid_auto_rows": null,
            "grid_column": null,
            "grid_gap": null,
            "grid_row": null,
            "grid_template_areas": null,
            "grid_template_columns": null,
            "grid_template_rows": null,
            "height": null,
            "justify_content": null,
            "justify_items": null,
            "left": null,
            "margin": null,
            "max_height": null,
            "max_width": null,
            "min_height": null,
            "min_width": null,
            "object_fit": null,
            "object_position": null,
            "order": null,
            "overflow": null,
            "overflow_x": null,
            "overflow_y": null,
            "padding": null,
            "right": null,
            "top": null,
            "visibility": null,
            "width": null
          }
        },
        "bd10cc68932d4619ad278a42a8e831e6": {
          "model_module": "@jupyter-widgets/controls",
          "model_name": "DescriptionStyleModel",
          "model_module_version": "1.5.0",
          "state": {
            "_model_module": "@jupyter-widgets/controls",
            "_model_module_version": "1.5.0",
            "_model_name": "DescriptionStyleModel",
            "_view_count": null,
            "_view_module": "@jupyter-widgets/base",
            "_view_module_version": "1.2.0",
            "_view_name": "StyleView",
            "description_width": ""
          }
        },
        "d0d87ca916e14b19a089713840ff7791": {
          "model_module": "@jupyter-widgets/controls",
          "model_name": "HBoxModel",
          "model_module_version": "1.5.0",
          "state": {
            "_dom_classes": [],
            "_model_module": "@jupyter-widgets/controls",
            "_model_module_version": "1.5.0",
            "_model_name": "HBoxModel",
            "_view_count": null,
            "_view_module": "@jupyter-widgets/controls",
            "_view_module_version": "1.5.0",
            "_view_name": "HBoxView",
            "box_style": "",
            "children": [
              "IPY_MODEL_42ca7b124e18430285e42e734629008e",
              "IPY_MODEL_511cfaaacfaf4ef9a1ffa3dd40a8ffdc",
              "IPY_MODEL_9d61906a415d439682c6e19bb7cfc1c9"
            ],
            "layout": "IPY_MODEL_7683358e6ac54655b1278f3ff573119e"
          }
        },
        "42ca7b124e18430285e42e734629008e": {
          "model_module": "@jupyter-widgets/controls",
          "model_name": "HTMLModel",
          "model_module_version": "1.5.0",
          "state": {
            "_dom_classes": [],
            "_model_module": "@jupyter-widgets/controls",
            "_model_module_version": "1.5.0",
            "_model_name": "HTMLModel",
            "_view_count": null,
            "_view_module": "@jupyter-widgets/controls",
            "_view_module_version": "1.5.0",
            "_view_name": "HTMLView",
            "description": "",
            "description_tooltip": null,
            "layout": "IPY_MODEL_b714d169b2a54b31991a1811995b33d4",
            "placeholder": "​",
            "style": "IPY_MODEL_d57ca6074da94d9c9be92b429b4f6a84",
            "value": "Downloading https://raw.githubusercontent.com/stanfordnlp/stanza-resources/main/resources_1.4.1.json: "
          }
        },
        "511cfaaacfaf4ef9a1ffa3dd40a8ffdc": {
          "model_module": "@jupyter-widgets/controls",
          "model_name": "FloatProgressModel",
          "model_module_version": "1.5.0",
          "state": {
            "_dom_classes": [],
            "_model_module": "@jupyter-widgets/controls",
            "_model_module_version": "1.5.0",
            "_model_name": "FloatProgressModel",
            "_view_count": null,
            "_view_module": "@jupyter-widgets/controls",
            "_view_module_version": "1.5.0",
            "_view_name": "ProgressView",
            "bar_style": "success",
            "description": "",
            "description_tooltip": null,
            "layout": "IPY_MODEL_400933c0e86d4a258926a6ff817f1514",
            "max": 28918,
            "min": 0,
            "orientation": "horizontal",
            "style": "IPY_MODEL_6ed448a071084ca3899cd476b994bbaf",
            "value": 28918
          }
        },
        "9d61906a415d439682c6e19bb7cfc1c9": {
          "model_module": "@jupyter-widgets/controls",
          "model_name": "HTMLModel",
          "model_module_version": "1.5.0",
          "state": {
            "_dom_classes": [],
            "_model_module": "@jupyter-widgets/controls",
            "_model_module_version": "1.5.0",
            "_model_name": "HTMLModel",
            "_view_count": null,
            "_view_module": "@jupyter-widgets/controls",
            "_view_module_version": "1.5.0",
            "_view_name": "HTMLView",
            "description": "",
            "description_tooltip": null,
            "layout": "IPY_MODEL_08503b74e8404e86add0e9d73221ddba",
            "placeholder": "​",
            "style": "IPY_MODEL_a13e72259c1848b793741385750479df",
            "value": " 193k/? [00:00&lt;00:00, 3.72MB/s]"
          }
        },
        "7683358e6ac54655b1278f3ff573119e": {
          "model_module": "@jupyter-widgets/base",
          "model_name": "LayoutModel",
          "model_module_version": "1.2.0",
          "state": {
            "_model_module": "@jupyter-widgets/base",
            "_model_module_version": "1.2.0",
            "_model_name": "LayoutModel",
            "_view_count": null,
            "_view_module": "@jupyter-widgets/base",
            "_view_module_version": "1.2.0",
            "_view_name": "LayoutView",
            "align_content": null,
            "align_items": null,
            "align_self": null,
            "border": null,
            "bottom": null,
            "display": null,
            "flex": null,
            "flex_flow": null,
            "grid_area": null,
            "grid_auto_columns": null,
            "grid_auto_flow": null,
            "grid_auto_rows": null,
            "grid_column": null,
            "grid_gap": null,
            "grid_row": null,
            "grid_template_areas": null,
            "grid_template_columns": null,
            "grid_template_rows": null,
            "height": null,
            "justify_content": null,
            "justify_items": null,
            "left": null,
            "margin": null,
            "max_height": null,
            "max_width": null,
            "min_height": null,
            "min_width": null,
            "object_fit": null,
            "object_position": null,
            "order": null,
            "overflow": null,
            "overflow_x": null,
            "overflow_y": null,
            "padding": null,
            "right": null,
            "top": null,
            "visibility": null,
            "width": null
          }
        },
        "b714d169b2a54b31991a1811995b33d4": {
          "model_module": "@jupyter-widgets/base",
          "model_name": "LayoutModel",
          "model_module_version": "1.2.0",
          "state": {
            "_model_module": "@jupyter-widgets/base",
            "_model_module_version": "1.2.0",
            "_model_name": "LayoutModel",
            "_view_count": null,
            "_view_module": "@jupyter-widgets/base",
            "_view_module_version": "1.2.0",
            "_view_name": "LayoutView",
            "align_content": null,
            "align_items": null,
            "align_self": null,
            "border": null,
            "bottom": null,
            "display": null,
            "flex": null,
            "flex_flow": null,
            "grid_area": null,
            "grid_auto_columns": null,
            "grid_auto_flow": null,
            "grid_auto_rows": null,
            "grid_column": null,
            "grid_gap": null,
            "grid_row": null,
            "grid_template_areas": null,
            "grid_template_columns": null,
            "grid_template_rows": null,
            "height": null,
            "justify_content": null,
            "justify_items": null,
            "left": null,
            "margin": null,
            "max_height": null,
            "max_width": null,
            "min_height": null,
            "min_width": null,
            "object_fit": null,
            "object_position": null,
            "order": null,
            "overflow": null,
            "overflow_x": null,
            "overflow_y": null,
            "padding": null,
            "right": null,
            "top": null,
            "visibility": null,
            "width": null
          }
        },
        "d57ca6074da94d9c9be92b429b4f6a84": {
          "model_module": "@jupyter-widgets/controls",
          "model_name": "DescriptionStyleModel",
          "model_module_version": "1.5.0",
          "state": {
            "_model_module": "@jupyter-widgets/controls",
            "_model_module_version": "1.5.0",
            "_model_name": "DescriptionStyleModel",
            "_view_count": null,
            "_view_module": "@jupyter-widgets/base",
            "_view_module_version": "1.2.0",
            "_view_name": "StyleView",
            "description_width": ""
          }
        },
        "400933c0e86d4a258926a6ff817f1514": {
          "model_module": "@jupyter-widgets/base",
          "model_name": "LayoutModel",
          "model_module_version": "1.2.0",
          "state": {
            "_model_module": "@jupyter-widgets/base",
            "_model_module_version": "1.2.0",
            "_model_name": "LayoutModel",
            "_view_count": null,
            "_view_module": "@jupyter-widgets/base",
            "_view_module_version": "1.2.0",
            "_view_name": "LayoutView",
            "align_content": null,
            "align_items": null,
            "align_self": null,
            "border": null,
            "bottom": null,
            "display": null,
            "flex": null,
            "flex_flow": null,
            "grid_area": null,
            "grid_auto_columns": null,
            "grid_auto_flow": null,
            "grid_auto_rows": null,
            "grid_column": null,
            "grid_gap": null,
            "grid_row": null,
            "grid_template_areas": null,
            "grid_template_columns": null,
            "grid_template_rows": null,
            "height": null,
            "justify_content": null,
            "justify_items": null,
            "left": null,
            "margin": null,
            "max_height": null,
            "max_width": null,
            "min_height": null,
            "min_width": null,
            "object_fit": null,
            "object_position": null,
            "order": null,
            "overflow": null,
            "overflow_x": null,
            "overflow_y": null,
            "padding": null,
            "right": null,
            "top": null,
            "visibility": null,
            "width": null
          }
        },
        "6ed448a071084ca3899cd476b994bbaf": {
          "model_module": "@jupyter-widgets/controls",
          "model_name": "ProgressStyleModel",
          "model_module_version": "1.5.0",
          "state": {
            "_model_module": "@jupyter-widgets/controls",
            "_model_module_version": "1.5.0",
            "_model_name": "ProgressStyleModel",
            "_view_count": null,
            "_view_module": "@jupyter-widgets/base",
            "_view_module_version": "1.2.0",
            "_view_name": "StyleView",
            "bar_color": null,
            "description_width": ""
          }
        },
        "08503b74e8404e86add0e9d73221ddba": {
          "model_module": "@jupyter-widgets/base",
          "model_name": "LayoutModel",
          "model_module_version": "1.2.0",
          "state": {
            "_model_module": "@jupyter-widgets/base",
            "_model_module_version": "1.2.0",
            "_model_name": "LayoutModel",
            "_view_count": null,
            "_view_module": "@jupyter-widgets/base",
            "_view_module_version": "1.2.0",
            "_view_name": "LayoutView",
            "align_content": null,
            "align_items": null,
            "align_self": null,
            "border": null,
            "bottom": null,
            "display": null,
            "flex": null,
            "flex_flow": null,
            "grid_area": null,
            "grid_auto_columns": null,
            "grid_auto_flow": null,
            "grid_auto_rows": null,
            "grid_column": null,
            "grid_gap": null,
            "grid_row": null,
            "grid_template_areas": null,
            "grid_template_columns": null,
            "grid_template_rows": null,
            "height": null,
            "justify_content": null,
            "justify_items": null,
            "left": null,
            "margin": null,
            "max_height": null,
            "max_width": null,
            "min_height": null,
            "min_width": null,
            "object_fit": null,
            "object_position": null,
            "order": null,
            "overflow": null,
            "overflow_x": null,
            "overflow_y": null,
            "padding": null,
            "right": null,
            "top": null,
            "visibility": null,
            "width": null
          }
        },
        "a13e72259c1848b793741385750479df": {
          "model_module": "@jupyter-widgets/controls",
          "model_name": "DescriptionStyleModel",
          "model_module_version": "1.5.0",
          "state": {
            "_model_module": "@jupyter-widgets/controls",
            "_model_module_version": "1.5.0",
            "_model_name": "DescriptionStyleModel",
            "_view_count": null,
            "_view_module": "@jupyter-widgets/base",
            "_view_module_version": "1.2.0",
            "_view_name": "StyleView",
            "description_width": ""
          }
        }
      }
    }
  },
  "cells": [
    {
      "cell_type": "markdown",
      "source": [
        "# Text Analytics: \n",
        "\n"
      ],
      "metadata": {
        "id": "NF6poT_z0qiV"
      }
    },
    {
      "cell_type": "code",
      "source": [
        "# imports \n",
        "import json\n",
        "import gzip"
      ],
      "metadata": {
        "id": "Oonuc1lQGK0-"
      },
      "execution_count": null,
      "outputs": []
    },
    {
      "cell_type": "code",
      "source": [
        "import nltk\n",
        "nltk.download('punkt')\n",
        "\n",
        "from nltk.tokenize import sent_tokenize, word_tokenize"
      ],
      "metadata": {
        "colab": {
          "base_uri": "https://localhost:8080/"
        },
        "id": "QeFElOLrp5Mh",
        "outputId": "e417cb72-b226-45c1-af13-0fa3adc42e2c"
      },
      "execution_count": null,
      "outputs": [
        {
          "output_type": "stream",
          "name": "stderr",
          "text": [
            "[nltk_data] Downloading package punkt to /root/nltk_data...\n",
            "[nltk_data]   Package punkt is already up-to-date!\n"
          ]
        }
      ]
    },
    {
      "cell_type": "code",
      "execution_count": null,
      "metadata": {
        "colab": {
          "base_uri": "https://localhost:8080/"
        },
        "id": "2vh30ZMNFcps",
        "outputId": "fe052e4a-d1e3-4620-8e36-3d021af9c554"
      },
      "outputs": [
        {
          "output_type": "stream",
          "name": "stdout",
          "text": [
            "Drive already mounted at /content/drive; to attempt to forcibly remount, call drive.mount(\"/content/drive\", force_remount=True).\n"
          ]
        }
      ],
      "source": [
        "from google.colab import drive\n",
        "drive.mount('/content/drive')"
      ]
    },
    {
      "cell_type": "code",
      "source": [
        "def read_gz_file(filename:str):\n",
        "    l = []\n",
        "    with gzip.open(filename, 'r') as f:\n",
        "        for jsonObj in f:\n",
        "            data = json.loads(jsonObj)\n",
        "            l.append(data)\n",
        "\n",
        "\n",
        "    return l\n",
        "file_ = read_gz_file(\"/content/drive/MyDrive/Colab Notebooks/Assignment/Cell_Phones_and_Accessories_5.json.gz\")"
      ],
      "metadata": {
        "id": "O2IEcc6pGnuP"
      },
      "execution_count": null,
      "outputs": []
    },
    {
      "cell_type": "code",
      "source": [
        "type(file_)"
      ],
      "metadata": {
        "colab": {
          "base_uri": "https://localhost:8080/"
        },
        "id": "xVIgMIlqHdoC",
        "outputId": "bc89b679-030e-42f4-ca2f-c018608ebb3a"
      },
      "execution_count": null,
      "outputs": [
        {
          "output_type": "execute_result",
          "data": {
            "text/plain": [
              "list"
            ]
          },
          "metadata": {},
          "execution_count": 6
        }
      ]
    },
    {
      "cell_type": "code",
      "source": [
        "file_[1]"
      ],
      "metadata": {
        "colab": {
          "base_uri": "https://localhost:8080/"
        },
        "id": "i6yWlMcFHngp",
        "outputId": "b2f65b49-56ce-4c0a-bed2-8b9514efdf89"
      },
      "execution_count": null,
      "outputs": [
        {
          "output_type": "execute_result",
          "data": {
            "text/plain": [
              "{'overall': 5.0,\n",
              " 'verified': True,\n",
              " 'reviewTime': '02 12, 2014',\n",
              " 'reviewerID': 'A269FLZCB4GIPV',\n",
              " 'asin': '7508492919',\n",
              " 'reviewerName': 'sarah ponce',\n",
              " 'reviewText': \"When you don't want to spend a whole lot of cash but want a great deal...this is the shop to buy from!\",\n",
              " 'summary': '1',\n",
              " 'unixReviewTime': 1392163200}"
            ]
          },
          "metadata": {},
          "execution_count": 7
        }
      ]
    },
    {
      "cell_type": "markdown",
      "source": [
        "# Sentence segmentation. How many sentences are segmented by an exclamation mark, question mark, and period?\n"
      ],
      "metadata": {
        "id": "8cBllkS51HCc"
      }
    },
    {
      "cell_type": "code",
      "source": [
        "corpus = []\n",
        "\n",
        "for i in range(len(file_)):\n",
        "    try:\n",
        "        corpus.append(str(file_[i]['reviewText']))\n",
        "    \n",
        "    except KeyError:\n",
        "        pass"
      ],
      "metadata": {
        "id": "DA-_wSQFHr5x"
      },
      "execution_count": null,
      "outputs": []
    },
    {
      "cell_type": "code",
      "source": [
        "len(corpus)"
      ],
      "metadata": {
        "colab": {
          "base_uri": "https://localhost:8080/"
        },
        "id": "0FRdZhMdH_tf",
        "outputId": "9b9d5459-67a1-4602-bd1b-d00a7cc05b1b"
      },
      "execution_count": null,
      "outputs": [
        {
          "output_type": "execute_result",
          "data": {
            "text/plain": [
              "1127672"
            ]
          },
          "metadata": {},
          "execution_count": 9
        }
      ]
    },
    {
      "cell_type": "code",
      "source": [
        "corpus[2]"
      ],
      "metadata": {
        "colab": {
          "base_uri": "https://localhost:8080/",
          "height": 53
        },
        "id": "ubXgP-0TIBHo",
        "outputId": "8f9bc2a5-12d8-42a1-a9a3-6fd1d576cae4"
      },
      "execution_count": null,
      "outputs": [
        {
          "output_type": "execute_result",
          "data": {
            "text/plain": [
              "\"so the case came on time, i love the design. I'm actually missing 2 studs but nothing too noticeable the studding is almost a bit sloppy around the bow, but once again not too noticeable. I haven't put in my phone yet so this is just what I've notice so far\""
            ],
            "application/vnd.google.colaboratory.intrinsic+json": {
              "type": "string"
            }
          },
          "metadata": {},
          "execution_count": 10
        }
      ]
    },
    {
      "cell_type": "code",
      "source": [
        "sent = []\n",
        "for s in corpus:\n",
        "    sent.extend(sent_tokenize(s))"
      ],
      "metadata": {
        "id": "VwFbKIXuMx2k"
      },
      "execution_count": null,
      "outputs": []
    },
    {
      "cell_type": "code",
      "source": [
        "def sentenceSegmentation(tokenized_corpus):\n",
        "\n",
        "  exclamation = 0\n",
        "  question = 0\n",
        "  period = 0\n",
        "\n",
        "  for i in range(len(tokenized_corpus)):\n",
        "    for j in range(len(tokenized_corpus[i])):\n",
        "      if tokenized_corpus[i][j][-1] == \".\":\n",
        "        period += 1\n",
        "      elif tokenized_corpus[i][j][-1] == \"?\":\n",
        "        question += 1\n",
        "      elif tokenized_corpus[i][j][-1] == \"!\":\n",
        "        exclamation += 1\n",
        "\n",
        "  return(exclamation , question , period)"
      ],
      "metadata": {
        "id": "4hCGWrraqUQs"
      },
      "execution_count": null,
      "outputs": []
    },
    {
      "cell_type": "code",
      "source": [
        "exclamation, question, period = sentenceSegmentation(sent)"
      ],
      "metadata": {
        "id": "gWD5ssBPugcK"
      },
      "execution_count": null,
      "outputs": []
    },
    {
      "cell_type": "code",
      "source": [
        "print(f\"Total number of sentences ending with ! is {exclamation} \\n\")\n",
        "print(f\"Total number of sentences ending with ? is {question} \\n\")\n",
        "print(f\"Total number of sentences ending with . is {period} \\n\")"
      ],
      "metadata": {
        "colab": {
          "base_uri": "https://localhost:8080/"
        },
        "id": "zlOBsPBxvVQr",
        "outputId": "9632cf37-83b8-42f3-dfff-9cf80dd6539a"
      },
      "execution_count": null,
      "outputs": [
        {
          "output_type": "stream",
          "name": "stdout",
          "text": [
            "Total number of sentences ending with ! is 437342 \n",
            "\n",
            "Total number of sentences ending with ? is 42263 \n",
            "\n",
            "Total number of sentences ending with . is 3991095 \n",
            "\n"
          ]
        }
      ]
    },
    {
      "cell_type": "markdown",
      "source": [
        "> ### Data Preprocessing \n",
        "\n",
        "\n",
        "For data preprocessing of this corpus I'd would following preprocessing steps\n",
        "\n",
        "\n",
        "\n",
        "1.   Removing punctuations like . , ! $( ) * % @\n",
        "2.   Removing URLs\n",
        "3.   Removing Stop words\n",
        "4.   Lower casing\n",
        "5.   Tokenization\n",
        "6.   Contractions\n",
        "\n",
        "\n",
        "\n",
        "\n",
        "\n",
        "\n",
        "\n"
      ],
      "metadata": {
        "id": "oz7-Usuxwwmi"
      }
    },
    {
      "cell_type": "code",
      "source": [
        "pip install contractions"
      ],
      "metadata": {
        "colab": {
          "base_uri": "https://localhost:8080/"
        },
        "id": "8-OdLQkhCPSt",
        "outputId": "99202a06-9ad6-497e-aa6e-9db802c11044"
      },
      "execution_count": null,
      "outputs": [
        {
          "output_type": "stream",
          "name": "stdout",
          "text": [
            "Looking in indexes: https://pypi.org/simple, https://us-python.pkg.dev/colab-wheels/public/simple/\n",
            "Collecting contractions\n",
            "  Downloading contractions-0.1.73-py2.py3-none-any.whl (8.7 kB)\n",
            "Collecting textsearch>=0.0.21\n",
            "  Downloading textsearch-0.0.24-py2.py3-none-any.whl (7.6 kB)\n",
            "Collecting anyascii\n",
            "  Downloading anyascii-0.3.1-py3-none-any.whl (287 kB)\n",
            "\u001b[K     |████████████████████████████████| 287 kB 5.0 MB/s \n",
            "\u001b[?25hCollecting pyahocorasick\n",
            "  Downloading pyahocorasick-1.4.4-cp37-cp37m-manylinux_2_17_x86_64.manylinux2014_x86_64.whl (106 kB)\n",
            "\u001b[K     |████████████████████████████████| 106 kB 42.2 MB/s \n",
            "\u001b[?25hInstalling collected packages: pyahocorasick, anyascii, textsearch, contractions\n",
            "Successfully installed anyascii-0.3.1 contractions-0.1.73 pyahocorasick-1.4.4 textsearch-0.0.24\n"
          ]
        }
      ]
    },
    {
      "cell_type": "code",
      "source": [
        "nltk.download(\"stopwords\")"
      ],
      "metadata": {
        "colab": {
          "base_uri": "https://localhost:8080/"
        },
        "id": "wnjs6Q9081jK",
        "outputId": "1937bdaf-adac-42c0-a988-adabe9556268"
      },
      "execution_count": null,
      "outputs": [
        {
          "output_type": "stream",
          "name": "stderr",
          "text": [
            "[nltk_data] Downloading package stopwords to /root/nltk_data...\n",
            "[nltk_data]   Unzipping corpora/stopwords.zip.\n"
          ]
        },
        {
          "output_type": "execute_result",
          "data": {
            "text/plain": [
              "True"
            ]
          },
          "metadata": {},
          "execution_count": 16
        }
      ]
    },
    {
      "cell_type": "code",
      "source": [
        "import re\n",
        "import contractions\n",
        "from nltk.tokenize import RegexpTokenizer\n",
        "from nltk.corpus import stopwords"
      ],
      "metadata": {
        "id": "bC4_3ObgpsQW"
      },
      "execution_count": null,
      "outputs": []
    },
    {
      "cell_type": "code",
      "source": [
        "import string \n",
        "\n",
        "string.punctuation\n"
      ],
      "metadata": {
        "colab": {
          "base_uri": "https://localhost:8080/",
          "height": 36
        },
        "id": "bOxtOvak5w-6",
        "outputId": "84e27807-2e89-4949-ad64-37b07c859499"
      },
      "execution_count": null,
      "outputs": [
        {
          "output_type": "execute_result",
          "data": {
            "text/plain": [
              "'!\"#$%&\\'()*+,-./:;<=>?@[\\\\]^_`{|}~'"
            ],
            "application/vnd.google.colaboratory.intrinsic+json": {
              "type": "string"
            }
          },
          "metadata": {},
          "execution_count": 18
        }
      ]
    },
    {
      "cell_type": "code",
      "source": [
        "def preprocessing(sentence):\n",
        "\n",
        "  punct = r\"[!\\\"#\\$%&\\'\\(\\)\\*\\+,-\\./:;<=>\\?@\\[\\\\\\]\\^_`{\\|}~]\"\n",
        "  tokenize = RegexpTokenizer(r'\\w+')\n",
        "  \n",
        "  sentence = re.sub(punct, \"\", sentence)\n",
        "  sentence = contractions.fix(sentence)\n",
        "  sentence = re.sub(r'https?', \"\", sentence) \n",
        "  sentence = re.sub(r'[0-9]', '', sentence)\n",
        "  sentence = sentence.lower()\n",
        "  sentence = tokenize.tokenize(sentence)\n",
        "\n",
        "  return(sentence)"
      ],
      "metadata": {
        "id": "l53uUVjZyJxy"
      },
      "execution_count": null,
      "outputs": []
    },
    {
      "cell_type": "code",
      "source": [
        "pip install tqdm"
      ],
      "metadata": {
        "colab": {
          "base_uri": "https://localhost:8080/"
        },
        "id": "ozbv7SlycTUQ",
        "outputId": "bdd985a8-4234-4e79-d186-9f6cb78441dc"
      },
      "execution_count": null,
      "outputs": [
        {
          "output_type": "stream",
          "name": "stdout",
          "text": [
            "Looking in indexes: https://pypi.org/simple, https://us-python.pkg.dev/colab-wheels/public/simple/\n",
            "Requirement already satisfied: tqdm in /usr/local/lib/python3.7/dist-packages (4.64.1)\n"
          ]
        }
      ]
    },
    {
      "cell_type": "markdown",
      "source": [
        "# Finding frequency and the rank of tokens"
      ],
      "metadata": {
        "id": "8WOi7cCk1VtW"
      }
    },
    {
      "cell_type": "code",
      "source": [
        "import tqdm\n",
        "\n",
        "from tqdm import tqdm"
      ],
      "metadata": {
        "id": "0R8KvBpTcssS"
      },
      "execution_count": null,
      "outputs": []
    },
    {
      "cell_type": "code",
      "source": [
        "vocab = {}\n",
        "\n",
        "\n",
        "for i in tqdm(range(len(sent))):\n",
        "\n",
        "  stop_words = set(stopwords.words(\"english\"))\n",
        "  sentence  = preprocessing(sent[i])\n",
        "\n",
        "  for word in sentence:\n",
        "    if word in stop_words:\n",
        "      pass\n",
        "\n",
        "    if word in vocab.keys():\n",
        "      vocab[word] +=1\n",
        "    else:\n",
        "      vocab[word] = 1\n"
      ],
      "metadata": {
        "colab": {
          "base_uri": "https://localhost:8080/"
        },
        "id": "yyQhlHdm9oou",
        "outputId": "4c142277-2a7c-4466-8bfd-cc6f649243b6"
      },
      "execution_count": null,
      "outputs": [
        {
          "output_type": "stream",
          "name": "stderr",
          "text": [
            "100%|██████████| 4231672/4231672 [14:45<00:00, 4777.22it/s]\n"
          ]
        }
      ]
    },
    {
      "cell_type": "code",
      "source": [
        "len(vocab)"
      ],
      "metadata": {
        "colab": {
          "base_uri": "https://localhost:8080/"
        },
        "id": "3sMad8dgmFU6",
        "outputId": "8b6524c4-4d68-4629-9ce8-ed43c65283b0"
      },
      "execution_count": null,
      "outputs": [
        {
          "output_type": "execute_result",
          "data": {
            "text/plain": [
              "207461"
            ]
          },
          "metadata": {},
          "execution_count": 23
        }
      ]
    },
    {
      "cell_type": "code",
      "source": [
        "sorted_vocab = dict(sorted(vocab.items(), key=lambda x:x[1], reverse=True))"
      ],
      "metadata": {
        "id": "1NpwqGiamSAT"
      },
      "execution_count": null,
      "outputs": []
    },
    {
      "cell_type": "code",
      "source": [
        "total_num_words = sum(sorted_vocab.values())"
      ],
      "metadata": {
        "id": "h2jGgqzLol0K"
      },
      "execution_count": null,
      "outputs": []
    },
    {
      "cell_type": "code",
      "source": [
        "total_num_words"
      ],
      "metadata": {
        "colab": {
          "base_uri": "https://localhost:8080/"
        },
        "id": "SVc5m59spgFP",
        "outputId": "a706457e-509f-49b9-f438-4fc8e0ab6994"
      },
      "execution_count": null,
      "outputs": [
        {
          "output_type": "execute_result",
          "data": {
            "text/plain": [
              "56826383"
            ]
          },
          "metadata": {},
          "execution_count": 26
        }
      ]
    },
    {
      "cell_type": "code",
      "source": [
        "freq = list(sorted_vocab.values())"
      ],
      "metadata": {
        "id": "zb6GKrF5s1oN"
      },
      "execution_count": null,
      "outputs": []
    },
    {
      "cell_type": "code",
      "source": [
        "count_less = 0\n",
        "word_less = 0\n",
        "\n",
        "count_more = 0\n",
        "word_more = 0\n",
        "for i in range(len(freq)):\n",
        "  if freq[i]<10:\n",
        "    count_less += freq[i] \n",
        "    word_less += 1\n",
        "  \n",
        "  elif freq[i]>100000:\n",
        "    count_more += freq[i]\n",
        "    word_more += 1\n"
      ],
      "metadata": {
        "id": "R_OrQMVrtSHQ"
      },
      "execution_count": null,
      "outputs": []
    },
    {
      "cell_type": "code",
      "source": [
        "word_less/len(vocab)"
      ],
      "metadata": {
        "colab": {
          "base_uri": "https://localhost:8080/"
        },
        "id": "NewHYX7dvX4j",
        "outputId": "d80df1d2-a497-4c18-8344-436e4c7278d9"
      },
      "execution_count": null,
      "outputs": [
        {
          "output_type": "execute_result",
          "data": {
            "text/plain": [
              "0.8750319337128424"
            ]
          },
          "metadata": {},
          "execution_count": 29
        }
      ]
    },
    {
      "cell_type": "code",
      "source": [
        "word_less"
      ],
      "metadata": {
        "colab": {
          "base_uri": "https://localhost:8080/"
        },
        "id": "A6AI8MvEvZxY",
        "outputId": "cd5e10a6-e057-4326-98c2-71293f160d12"
      },
      "execution_count": null,
      "outputs": [
        {
          "output_type": "execute_result",
          "data": {
            "text/plain": [
              "181535"
            ]
          },
          "metadata": {},
          "execution_count": 30
        }
      ]
    },
    {
      "cell_type": "code",
      "source": [
        "word_more/len(vocab)"
      ],
      "metadata": {
        "colab": {
          "base_uri": "https://localhost:8080/"
        },
        "id": "aDL_PUw8vkl9",
        "outputId": "0262b69e-c556-4421-c8ac-b033897c159a"
      },
      "execution_count": null,
      "outputs": [
        {
          "output_type": "execute_result",
          "data": {
            "text/plain": [
              "0.00040489537792645365"
            ]
          },
          "metadata": {},
          "execution_count": 31
        }
      ]
    },
    {
      "cell_type": "code",
      "source": [
        "word_more"
      ],
      "metadata": {
        "colab": {
          "base_uri": "https://localhost:8080/"
        },
        "id": "ytaTNiBVvsGi",
        "outputId": "33993c8d-eea7-4fcd-dc3f-6c14b57b44cd"
      },
      "execution_count": null,
      "outputs": [
        {
          "output_type": "execute_result",
          "data": {
            "text/plain": [
              "84"
            ]
          },
          "metadata": {},
          "execution_count": 32
        }
      ]
    },
    {
      "cell_type": "markdown",
      "source": [
        "A total of 87.5% words are useless for our analysis as we are rejecting words having frequency more than 100000 and less than 10. \n",
        "\n",
        "Hence, we can say that Pareto rule is applicable here. "
      ],
      "metadata": {
        "id": "gdCppDuq5fUW"
      }
    },
    {
      "cell_type": "markdown",
      "source": [
        "# Sentiment analysis using Stanza library and Naive Bayes"
      ],
      "metadata": {
        "id": "UIao4O9IEQc5"
      }
    },
    {
      "cell_type": "code",
      "source": [
        "pip install stanza"
      ],
      "metadata": {
        "colab": {
          "base_uri": "https://localhost:8080/"
        },
        "id": "rxakg-cIGLTF",
        "outputId": "be8c7f76-165f-4b47-853a-383156e2d4df"
      },
      "execution_count": null,
      "outputs": [
        {
          "output_type": "stream",
          "name": "stdout",
          "text": [
            "Looking in indexes: https://pypi.org/simple, https://us-python.pkg.dev/colab-wheels/public/simple/\n",
            "Collecting stanza\n",
            "  Downloading stanza-1.4.2-py3-none-any.whl (691 kB)\n",
            "\u001b[K     |████████████████████████████████| 691 kB 4.6 MB/s \n",
            "\u001b[?25hRequirement already satisfied: torch>=1.3.0 in /usr/local/lib/python3.7/dist-packages (from stanza) (1.12.1+cu113)\n",
            "Requirement already satisfied: requests in /usr/local/lib/python3.7/dist-packages (from stanza) (2.23.0)\n",
            "Requirement already satisfied: tqdm in /usr/local/lib/python3.7/dist-packages (from stanza) (4.64.1)\n",
            "Requirement already satisfied: six in /usr/local/lib/python3.7/dist-packages (from stanza) (1.15.0)\n",
            "Requirement already satisfied: protobuf in /usr/local/lib/python3.7/dist-packages (from stanza) (3.19.6)\n",
            "Collecting emoji\n",
            "  Downloading emoji-2.2.0.tar.gz (240 kB)\n",
            "\u001b[K     |████████████████████████████████| 240 kB 54.1 MB/s \n",
            "\u001b[?25hRequirement already satisfied: numpy in /usr/local/lib/python3.7/dist-packages (from stanza) (1.21.6)\n",
            "Requirement already satisfied: typing-extensions in /usr/local/lib/python3.7/dist-packages (from torch>=1.3.0->stanza) (4.1.1)\n",
            "Requirement already satisfied: urllib3!=1.25.0,!=1.25.1,<1.26,>=1.21.1 in /usr/local/lib/python3.7/dist-packages (from requests->stanza) (1.24.3)\n",
            "Requirement already satisfied: idna<3,>=2.5 in /usr/local/lib/python3.7/dist-packages (from requests->stanza) (2.10)\n",
            "Requirement already satisfied: certifi>=2017.4.17 in /usr/local/lib/python3.7/dist-packages (from requests->stanza) (2022.9.24)\n",
            "Requirement already satisfied: chardet<4,>=3.0.2 in /usr/local/lib/python3.7/dist-packages (from requests->stanza) (3.0.4)\n",
            "Building wheels for collected packages: emoji\n",
            "  Building wheel for emoji (setup.py) ... \u001b[?25l\u001b[?25hdone\n",
            "  Created wheel for emoji: filename=emoji-2.2.0-py3-none-any.whl size=234926 sha256=13974d9529d8b08efa72b0d92219fdae45727db536ceda0dbe936a341389a319\n",
            "  Stored in directory: /root/.cache/pip/wheels/f3/e3/f2/1de1c2e3ed742e1df73e0f15d58864e50c7e64f607b548d6cf\n",
            "Successfully built emoji\n",
            "Installing collected packages: emoji, stanza\n",
            "Successfully installed emoji-2.2.0 stanza-1.4.2\n"
          ]
        }
      ]
    },
    {
      "cell_type": "code",
      "source": [
        "import stanza\n",
        "stanza.download('en')\n",
        "stanza_pipeline = stanza.Pipeline(lang = 'en', processors='tokenize, sentiment', tokenize_no_ssplit=True)"
      ],
      "metadata": {
        "colab": {
          "base_uri": "https://localhost:8080/",
          "height": 393,
          "referenced_widgets": [
            "ec3d8290174e4a59b7f923d753f13476",
            "07a98a4ac90e422b88b5125a5a14c2b1",
            "8e53fc775f7d44c6b6baca4708db2181",
            "dce228177657472e92271c2e49bd6282",
            "84ef83430d8b44debd804b032e142cb8",
            "e6520b976a0545b6b97bf23f36398c99",
            "bb41759aca1041fd9e663b23c7b80be9",
            "c6035b87c9354781af5ac29e6bc078c6",
            "52a134e990304303948b556b7a75e3e8",
            "d45e1b63b9074c518a5f33cf212b5d22",
            "18250935e7204b06be6fdadbbfe92f68",
            "2f75c696365c4859873b9182c27ba8b6",
            "cd742cb6746b444881386b31d92ed5ac",
            "190e58c50a7f4b97a4276968cd5ad874",
            "6318c2eb62c44ea3840f223cfc7e520d",
            "5406e218f75a466fb6177634a884829c",
            "39e478fa0c8a476690f4b69891b09216",
            "bdad8002b3ad4d6c8fbadd9653d04a48",
            "22101b2bc73547d092d80a9832339c58",
            "59a06518f7ae4f4bbed26c5ea93d9f28",
            "98083d6054e446e4b65791905caaccf6",
            "bd10cc68932d4619ad278a42a8e831e6",
            "d0d87ca916e14b19a089713840ff7791",
            "42ca7b124e18430285e42e734629008e",
            "511cfaaacfaf4ef9a1ffa3dd40a8ffdc",
            "9d61906a415d439682c6e19bb7cfc1c9",
            "7683358e6ac54655b1278f3ff573119e",
            "b714d169b2a54b31991a1811995b33d4",
            "d57ca6074da94d9c9be92b429b4f6a84",
            "400933c0e86d4a258926a6ff817f1514",
            "6ed448a071084ca3899cd476b994bbaf",
            "08503b74e8404e86add0e9d73221ddba",
            "a13e72259c1848b793741385750479df"
          ]
        },
        "id": "HTr055zsF7Cv",
        "outputId": "3aa840ef-e6ee-461a-9110-1ba135eed97e"
      },
      "execution_count": null,
      "outputs": [
        {
          "output_type": "display_data",
          "data": {
            "text/plain": [
              "Downloading https://raw.githubusercontent.com/stanfordnlp/stanza-resources/main/resources_1.4.1.json:   0%|   …"
            ],
            "application/vnd.jupyter.widget-view+json": {
              "version_major": 2,
              "version_minor": 0,
              "model_id": "ec3d8290174e4a59b7f923d753f13476"
            }
          },
          "metadata": {}
        },
        {
          "output_type": "stream",
          "name": "stderr",
          "text": [
            "INFO:stanza:Downloading default packages for language: en (English) ...\n"
          ]
        },
        {
          "output_type": "display_data",
          "data": {
            "text/plain": [
              "Downloading https://huggingface.co/stanfordnlp/stanza-en/resolve/v1.4.1/models/default.zip:   0%|          | 0…"
            ],
            "application/vnd.jupyter.widget-view+json": {
              "version_major": 2,
              "version_minor": 0,
              "model_id": "2f75c696365c4859873b9182c27ba8b6"
            }
          },
          "metadata": {}
        },
        {
          "output_type": "stream",
          "name": "stderr",
          "text": [
            "INFO:stanza:Finished downloading models and saved to /root/stanza_resources.\n",
            "INFO:stanza:Checking for updates to resources.json in case models have been updated.  Note: this behavior can be turned off with download_method=None or download_method=DownloadMethod.REUSE_RESOURCES\n"
          ]
        },
        {
          "output_type": "display_data",
          "data": {
            "text/plain": [
              "Downloading https://raw.githubusercontent.com/stanfordnlp/stanza-resources/main/resources_1.4.1.json:   0%|   …"
            ],
            "application/vnd.jupyter.widget-view+json": {
              "version_major": 2,
              "version_minor": 0,
              "model_id": "d0d87ca916e14b19a089713840ff7791"
            }
          },
          "metadata": {}
        },
        {
          "output_type": "stream",
          "name": "stderr",
          "text": [
            "INFO:stanza:Loading these models for language: en (English):\n",
            "========================\n",
            "| Processor | Package  |\n",
            "------------------------\n",
            "| tokenize  | combined |\n",
            "| sentiment | sstplus  |\n",
            "========================\n",
            "\n",
            "INFO:stanza:Use device: cpu\n",
            "INFO:stanza:Loading: tokenize\n",
            "INFO:stanza:Loading: sentiment\n",
            "INFO:stanza:Done loading processors!\n"
          ]
        }
      ]
    },
    {
      "cell_type": "code",
      "source": [
        "stanza_Value = stanza_pipeline(sent[1])"
      ],
      "metadata": {
        "id": "Coa5p_aCGIDG"
      },
      "execution_count": null,
      "outputs": []
    },
    {
      "cell_type": "code",
      "source": [
        "def sentiment_val(sentence):\n",
        "  stanza_Value = stanza_pipeline(sentence)\n",
        "  sentiment = stanza_Value.sentences[0].sentiment\n",
        "\n",
        "  if sentiment ==0 :\n",
        "    return(True , 0)\n",
        "  if sentiment == 2:\n",
        "    return(True, 1)\n",
        "  else:\n",
        "    return(False, 0)"
      ],
      "metadata": {
        "id": "iMxqeBs_NLa9"
      },
      "execution_count": null,
      "outputs": []
    },
    {
      "cell_type": "code",
      "source": [
        "import random"
      ],
      "metadata": {
        "id": "uER90Juvnxrl"
      },
      "execution_count": null,
      "outputs": []
    },
    {
      "cell_type": "code",
      "source": [
        "def sampleGenerator(corpus , idx , num_samples):\n",
        "  \n",
        "  sample_X = []\n",
        "  sample_Y = []\n",
        "  total = 0\n",
        "\n",
        "  while total < num_samples:\n",
        "    # generate index\n",
        "    index = int(random.random()*10000)\n",
        "\n",
        "    if index not in idx:\n",
        "      sample = corpus[index]\n",
        "      idx.append(index)\n",
        "\n",
        "    not_neutral, sentiment = sentiment_val(sample)\n",
        "\n",
        "    if sentiment_val(sample)[0]:\n",
        "      total += 1\n",
        "      sample_X.append(sample)\n",
        "      sample_Y.append(sentiment)\n",
        "\n",
        "  return(idx , sample_X , sample_Y)\n",
        "\n",
        "\n",
        "\n"
      ],
      "metadata": {
        "id": "UQoAhyq6PdEb"
      },
      "execution_count": null,
      "outputs": []
    },
    {
      "cell_type": "code",
      "source": [
        "a, sentiment = sentiment_val(sent[1])"
      ],
      "metadata": {
        "id": "ddtjF1sxT7H7"
      },
      "execution_count": null,
      "outputs": []
    },
    {
      "cell_type": "code",
      "source": [
        "sentiment"
      ],
      "metadata": {
        "colab": {
          "base_uri": "https://localhost:8080/"
        },
        "id": "v2JAFJe0VZoG",
        "outputId": "d9a0b6a3-9e05-466b-81b6-602928520505"
      },
      "execution_count": null,
      "outputs": [
        {
          "output_type": "execute_result",
          "data": {
            "text/plain": [
              "0"
            ]
          },
          "metadata": {},
          "execution_count": 39
        }
      ]
    },
    {
      "cell_type": "code",
      "source": [
        "sampleGenerator(sent , [0] , 10)"
      ],
      "metadata": {
        "colab": {
          "base_uri": "https://localhost:8080/"
        },
        "id": "QgutS1TPVOnB",
        "outputId": "b6e082e7-199e-4dc8-f4a0-eb9ab00d2a86"
      },
      "execution_count": null,
      "outputs": [
        {
          "output_type": "execute_result",
          "data": {
            "text/plain": [
              "([0,\n",
              "  9984,\n",
              "  2525,\n",
              "  2142,\n",
              "  7059,\n",
              "  391,\n",
              "  8248,\n",
              "  6056,\n",
              "  547,\n",
              "  6338,\n",
              "  8849,\n",
              "  1538,\n",
              "  4013,\n",
              "  3118,\n",
              "  6504,\n",
              "  2364,\n",
              "  2841,\n",
              "  4896],\n",
              " [\"This one I got from Plantronics is by far the best I have ever had and from what I've read the best on the market right now.\",\n",
              "  'What a bunch of fargin iceholes.',\n",
              "  'Took me 2 minutes to replace the band and done.',\n",
              "  'Not a happy camper on this purchase.',\n",
              "  'I have bought other USB hubs in the past, and they all failed.',\n",
              "  'DO NOT BUY THIS PRODUCT!!!',\n",
              "  '), this fits wonderfully.',\n",
              "  \"It took a while to figure out how to install the headset to your ear, but I'm sure most, if not all, Bluetooth headsets share the same minor inconvenience.\",\n",
              "  'Great purchase.',\n",
              "  \"I actually haven't seen this as a real problem, although I would like to see if Motorola adds the feature to future versions of the Buds.\"],\n",
              " [1, 0, 0, 0, 0, 0, 1, 0, 1, 0])"
            ]
          },
          "metadata": {},
          "execution_count": 42
        }
      ]
    },
    {
      "cell_type": "code",
      "source": [
        "ind_train , train_X , train_Y =sampleGenerator(sent , [0] , 500)"
      ],
      "metadata": {
        "id": "6cpve1dcTdE7"
      },
      "execution_count": null,
      "outputs": []
    },
    {
      "cell_type": "code",
      "source": [
        "ind_test , test_X , test_Y =sampleGenerator(sent , ind_train , 250)"
      ],
      "metadata": {
        "id": "JYBjro48Tq5i"
      },
      "execution_count": null,
      "outputs": []
    },
    {
      "cell_type": "code",
      "source": [
        "len(train_X) , len(train_Y)"
      ],
      "metadata": {
        "colab": {
          "base_uri": "https://localhost:8080/"
        },
        "id": "TL_xPMuZZP6b",
        "outputId": "bf2c0f40-68b6-4cda-c399-08382029a0b1"
      },
      "execution_count": null,
      "outputs": [
        {
          "output_type": "execute_result",
          "data": {
            "text/plain": [
              "(500, 500)"
            ]
          },
          "metadata": {},
          "execution_count": 45
        }
      ]
    },
    {
      "cell_type": "code",
      "source": [
        "len(test_X) , len(test_Y)"
      ],
      "metadata": {
        "colab": {
          "base_uri": "https://localhost:8080/"
        },
        "id": "83dVhW7-aUK6",
        "outputId": "9532639a-f33d-4f55-9794-db5af0e59ead"
      },
      "execution_count": null,
      "outputs": [
        {
          "output_type": "execute_result",
          "data": {
            "text/plain": [
              "(250, 250)"
            ]
          },
          "metadata": {},
          "execution_count": 46
        }
      ]
    },
    {
      "cell_type": "code",
      "source": [
        "from sklearn import feature_extraction\n",
        "extractor = feature_extraction.text.CountVectorizer(stop_words='english')\n",
        "X_train = extractor.fit_transform([x for x in train_X])\n",
        "X_test = extractor.transform([x for x in test_X])"
      ],
      "metadata": {
        "id": "8GbzWEEyagZ-"
      },
      "execution_count": null,
      "outputs": []
    },
    {
      "cell_type": "code",
      "source": [
        "from sklearn.naive_bayes import MultinomialNB\n",
        "model = MultinomialNB()\n",
        "model.fit(X_train, train_Y)"
      ],
      "metadata": {
        "colab": {
          "base_uri": "https://localhost:8080/"
        },
        "id": "cD3EmPF4bUl8",
        "outputId": "bfe87f74-39dd-43ee-e08d-e2b9d37f0054"
      },
      "execution_count": null,
      "outputs": [
        {
          "output_type": "execute_result",
          "data": {
            "text/plain": [
              "MultinomialNB()"
            ]
          },
          "metadata": {},
          "execution_count": 48
        }
      ]
    },
    {
      "cell_type": "code",
      "source": [
        "from sklearn import metrics\n",
        "import matplotlib.pyplot as plt\n",
        "plt.style.use('classic')\n",
        "print(metrics.plot_confusion_matrix(model, X_test,test_Y,display_labels=['0','1']))"
      ],
      "metadata": {
        "colab": {
          "base_uri": "https://localhost:8080/",
          "height": 525
        },
        "id": "VsBVeTcrbf1_",
        "outputId": "769fd269-686e-43db-d4cf-62f453de7b64"
      },
      "execution_count": null,
      "outputs": [
        {
          "output_type": "stream",
          "name": "stderr",
          "text": [
            "/usr/local/lib/python3.7/dist-packages/sklearn/utils/deprecation.py:87: FutureWarning: Function plot_confusion_matrix is deprecated; Function `plot_confusion_matrix` is deprecated in 1.0 and will be removed in 1.2. Use one of the class methods: ConfusionMatrixDisplay.from_predictions or ConfusionMatrixDisplay.from_estimator.\n",
            "  warnings.warn(msg, category=FutureWarning)\n"
          ]
        },
        {
          "output_type": "stream",
          "name": "stdout",
          "text": [
            "<sklearn.metrics._plot.confusion_matrix.ConfusionMatrixDisplay object at 0x7fe67b50f5d0>\n"
          ]
        },
        {
          "output_type": "display_data",
          "data": {
            "text/plain": [
              "<Figure size 640x480 with 2 Axes>"
            ],
            "image/png": "[encoded data removed]"
          },
          "metadata": {}
        }
      ]
    },
    {
      "cell_type": "code",
      "source": [
        "y_predict = model.predict(X_test)\n",
        "print(f\"Accuracy = {metrics.accuracy_score(test_Y,y_predict)}\")\n",
        "print(f\"Precision = {metrics.precision_score(test_Y,y_predict)}\")\n",
        "print(f\"Recall =  {metrics.recall_score(test_Y,y_predict)}\")\n",
        "print(f\"F1 Score = {metrics.f1_score(test_Y,y_predict)}\")"
      ],
      "metadata": {
        "colab": {
          "base_uri": "https://localhost:8080/"
        },
        "id": "FHtq1obbcLVy",
        "outputId": "1103a40e-1439-470f-a33a-c54d3d08d393"
      },
      "execution_count": null,
      "outputs": [
        {
          "output_type": "stream",
          "name": "stdout",
          "text": [
            "Accuracy = 0.688\n",
            "Precision = 0.68\n",
            "Recall =  0.6910569105691057\n",
            "F1 Score = 0.685483870967742\n"
          ]
        }
      ]
    },
    {
      "cell_type": "markdown",
      "source": [
        "### End of Assignment 3"
      ],
      "metadata": {
        "id": "oWxogCk5dJPv"
      }
    },
    {
      "cell_type": "markdown",
      "source": [
        "# Identifying aspects and sentiments using POS rules"
      ],
      "metadata": {
        "id": "O2cEphsEdLma"
      }
    },
    {
      "cell_type": "code",
      "source": [
        "import nltk\n",
        "nltk.download('wordnet')\n",
        "nltk.download('omw-1.4')\n",
        "from nltk.corpus import wordnet\n",
        "from nltk.stem.wordnet import WordNetLemmatizer\n",
        "nltk.download('punkt')\n",
        "nltk.download('averaged_perceptron_tagger')\n",
        "from collections import Counter"
      ],
      "metadata": {
        "colab": {
          "base_uri": "https://localhost:8080/"
        },
        "id": "aRz1XmpnccBQ",
        "outputId": "034d3dda-d43e-4c87-ac3e-aed6ec263c2e"
      },
      "execution_count": null,
      "outputs": [
        {
          "output_type": "stream",
          "name": "stderr",
          "text": [
            "[nltk_data] Downloading package wordnet to /root/nltk_data...\n",
            "[nltk_data] Downloading package omw-1.4 to /root/nltk_data...\n",
            "[nltk_data] Downloading package punkt to /root/nltk_data...\n",
            "[nltk_data]   Package punkt is already up-to-date!\n",
            "[nltk_data] Downloading package averaged_perceptron_tagger to\n",
            "[nltk_data]     /root/nltk_data...\n",
            "[nltk_data]   Unzipping taggers/averaged_perceptron_tagger.zip.\n"
          ]
        }
      ]
    },
    {
      "cell_type": "code",
      "source": [
        "def Validate_chunking( corpus , aspect_rule):\n",
        "\taspect_dict = Counter()\n",
        "\topinion_dict = Counter()\n",
        "\tintensifier_dict = Counter()\n",
        "\t\n",
        "\tlemma = WordNetLemmatizer()\n",
        "\n",
        "\ti = 1\n",
        "\n",
        "\tfor sentence in corpus:\n",
        "\t\ttokens = nltk.word_tokenize(sentence.lower())\n",
        "\t\tlemmatized_tokens = [lemma.lemmatize(token) for token in tokens]\n",
        "\t\ttags = nltk.pos_tag(lemmatized_tokens)\n",
        "\t\t\n",
        "\t\taspect =  aspect_rule\n",
        "\t\t\n",
        "\t\tcp = nltk.RegexpParser(aspect)\n",
        "\t\tres = cp.parse(tags)\n",
        "\t\tfor x in res:\n",
        "\t\t\tif type(x) == nltk.tree.Tree:\n",
        "\t\t\t\tfor y in x.leaves():\n",
        "\t\t\t\t\tif 'NN' in y[1]: \n",
        "\t\t\t\t\t\taspect = [y[0]]\n",
        "\t\t\t\t\t\taspect_dict.update(aspect)\n",
        "\n",
        "\t\t\t\t\telif 'JJ' in y[1]:\n",
        "\t\t\t\t\t\topinion = [y[0]]\n",
        "\t\t\t\t\t\topinion_dict.update(opinion)\n",
        "\t\t\t\t\n",
        "\t\t\t\t\telif 'RB' in y[1]: \n",
        "\t\t\t\t\t\tintensifier = [y[0]]\n",
        "\t\t\t\t\t\tintensifier_dict.update(intensifier)\n",
        "\t\t\t\t\n",
        "\t\t\t\t\n",
        "\t\t\tprint(i,end=' sentences processed \\r')\n",
        "\t\t\ti += 1\n",
        "\n",
        "\tprint(\"Aspects: \", aspect_dict.most_common(15))\n",
        "\tprint(\"Opinions: \", opinion_dict.most_common(15))\n",
        "\tprint(\"Intensifier: \", intensifier_dict.most_common(15))\n",
        "\t\n",
        "\treturn (aspect_dict, opinion_dict, intensifier_dict)\n"
      ],
      "metadata": {
        "id": "Nl-eBaTeirln"
      },
      "execution_count": null,
      "outputs": []
    },
    {
      "cell_type": "code",
      "source": [
        "rule = [\"{<JJ><NN.*>+}\",\"{<NN.*>+}\", \"{<VB.*><NN.*>}\", \"{<NN.*><VB.*>}\", \"{<NN><NNS>}\", \"{<NNS> <JJ>}\", \"{<NNS><VB.*>}\", \"{<NN.*><JJ>}\", \"{<NN.*><VBZ>}\", \"{<RB.*><JJ>+}\",\"{<RB><VBG>}\"]\n",
        "\n",
        "rule_new  = [ \"r \"\"\" \"ASPECT:\" \"\" + rule  for rule in rule]\n",
        "\n"
      ],
      "metadata": {
        "id": "sLlj47eumZle"
      },
      "execution_count": null,
      "outputs": []
    },
    {
      "cell_type": "code",
      "source": [
        "rule_new"
      ],
      "metadata": {
        "colab": {
          "base_uri": "https://localhost:8080/"
        },
        "id": "U3daLT86sp9e",
        "outputId": "650ba1db-7392-473f-b680-553350c7f270"
      },
      "execution_count": null,
      "outputs": [
        {
          "output_type": "execute_result",
          "data": {
            "text/plain": [
              "['r ASPECT:{<JJ><NN.*>+}',\n",
              " 'r ASPECT:{<NN.*>+}',\n",
              " 'r ASPECT:{<VB.*><NN.*>}',\n",
              " 'r ASPECT:{<NN.*><VB.*>}',\n",
              " 'r ASPECT:{<NN><NNS>}',\n",
              " 'r ASPECT:{<NNS> <JJ>}',\n",
              " 'r ASPECT:{<NNS><VB.*>}',\n",
              " 'r ASPECT:{<NN.*><JJ>}',\n",
              " 'r ASPECT:{<NN.*><VBZ>}',\n",
              " 'r ASPECT:{<RB.*><JJ>+}',\n",
              " 'r ASPECT:{<RB><VBG>}']"
            ]
          },
          "metadata": {},
          "execution_count": 54
        }
      ]
    },
    {
      "cell_type": "code",
      "source": [
        "sample_data = random.sample(sent , 1000)"
      ],
      "metadata": {
        "id": "JzhTNKGAqTaV"
      },
      "execution_count": null,
      "outputs": []
    },
    {
      "cell_type": "markdown",
      "source": [
        "### Validating rule 1 \n",
        "$ \\{<JJ> <NN.*>+\\} $  "
      ],
      "metadata": {
        "id": "nCIx-oa3t78P"
      }
    },
    {
      "cell_type": "code",
      "source": [
        "aspect , opinion , intensifier = Validate_chunking( sample_data ,  str(rule_new[0]))"
      ],
      "metadata": {
        "colab": {
          "base_uri": "https://localhost:8080/"
        },
        "id": "b-gCyv34ujIm",
        "outputId": "c296b4ca-798a-44f8-af37-bd3e6643d2b8"
      },
      "execution_count": null,
      "outputs": [
        {
          "output_type": "stream",
          "name": "stdout",
          "text": [
            "Aspects:  [('case', 50), ('i', 24), ('phone', 24), ('time', 20), ('product', 19), ('protector', 16), ('quality', 15), ('screen', 11), ('review', 11), ('protection', 10), ('charger', 10), ('glass', 10), ('price', 9), ('cable', 9), ('battery', 8)]\n",
            "Opinions:  [('great', 38), ('good', 33), ('nice', 15), ('little', 14), ('new', 12), ('few', 11), ('other', 10), ('first', 9), ('same', 9), ('perfect', 9), ('long', 8), ('screen', 8), ('i', 8), ('much', 7), ('usb', 7)]\n",
            "Intensifier:  []\n"
          ]
        }
      ]
    },
    {
      "cell_type": "markdown",
      "source": [
        "### Validating rule 2\n",
        "$ \\{<NN.*>+\\} $  "
      ],
      "metadata": {
        "id": "6zHCmtc3vDgR"
      }
    },
    {
      "cell_type": "code",
      "source": [
        "aspect , opinion , intensifier = Validate_chunking( sample_data ,  str(rule_new[1]))"
      ],
      "metadata": {
        "colab": {
          "base_uri": "https://localhost:8080/"
        },
        "id": "4Y4XI_CerM-n",
        "outputId": "6b73a251-3219-414a-f6bd-33aaf4754d29"
      },
      "execution_count": null,
      "outputs": [
        {
          "output_type": "stream",
          "name": "stdout",
          "text": [
            "Aspects:  [('i', 305), ('phone', 185), ('case', 176), ('screen', 62), ('product', 47), ('time', 44), ('protector', 42), ('battery', 30), ('quality', 30), ('button', 29), ('work', 29), ('wa', 29), ('charger', 26), ('iphone', 26), ('review', 24)]\n",
            "Opinions:  []\n",
            "Intensifier:  []\n"
          ]
        }
      ]
    },
    {
      "cell_type": "markdown",
      "source": [
        "### Validating rule 3\n",
        "$ \\{<VB.*><NN.*>\\} $  "
      ],
      "metadata": {
        "id": "ZelwHVGQvT0x"
      }
    },
    {
      "cell_type": "code",
      "source": [
        "aspect , opinion , intensifier = Validate_chunking( sample_data ,  str(rule_new[2]))"
      ],
      "metadata": {
        "colab": {
          "base_uri": "https://localhost:8080/"
        },
        "id": "tiLqKMFqvY8T",
        "outputId": "ecad9b27-462e-4d5e-f0da-015501a95081"
      },
      "execution_count": null,
      "outputs": [
        {
          "output_type": "stream",
          "name": "stdout",
          "text": [
            "Aspects:  [('case', 7), ('anything', 7), ('something', 7), ('phone', 6), ('i', 4), ('color', 3), ('nothing', 3), ('compliment', 2), ('charge', 2), ('light', 2), ('mine', 2), ('issue', 2), ('cover', 2), ('plenty', 2), ('lot', 2)]\n",
            "Opinions:  []\n",
            "Intensifier:  []\n"
          ]
        }
      ]
    },
    {
      "cell_type": "markdown",
      "source": [
        "### Validating rule 4\n",
        "$ \\{<NN.*><VB.*>\\} $  "
      ],
      "metadata": {
        "id": "I71JCuU7vkuY"
      }
    },
    {
      "cell_type": "code",
      "source": [
        "aspect , opinion , intensifier = Validate_chunking( sample_data ,  str(rule_new[3]))"
      ],
      "metadata": {
        "colab": {
          "base_uri": "https://localhost:8080/"
        },
        "id": "p-eh4lTMvegS",
        "outputId": "879e15f6-ef8c-4cae-bf7f-d26bf7d87b64"
      },
      "execution_count": null,
      "outputs": [
        {
          "output_type": "stream",
          "name": "stdout",
          "text": [
            "Aspects:  [('i', 220), ('case', 42), ('phone', 19), ('wa', 13), ('button', 7), ('product', 6), ('screen', 6), ('ha', 6), ('review', 5), ('price', 5), ('battery', 5), ('wireless', 4), ('time', 4), ('protector', 4), ('glass', 4)]\n",
            "Opinions:  []\n",
            "Intensifier:  []\n"
          ]
        }
      ]
    },
    {
      "cell_type": "markdown",
      "source": [
        "### Validating rule 5\n",
        "$ \\{<NN><NNS>\\} $  "
      ],
      "metadata": {
        "id": "yyZ_jJdBvvDL"
      }
    },
    {
      "cell_type": "code",
      "source": [
        "aspect , opinion , intensifier = Validate_chunking( sample_data ,  str(rule_new[4]))"
      ],
      "metadata": {
        "colab": {
          "base_uri": "https://localhost:8080/"
        },
        "id": "mzT6kt5mvrFm",
        "outputId": "7fda2f26-4d99-40b0-b605-ba7f0fa94c0a"
      },
      "execution_count": null,
      "outputs": [
        {
          "output_type": "stream",
          "name": "stdout",
          "text": [
            "Aspects:  [('i', 3), ('degree', 2), ('lens', 2), ('product', 1), ('thanks', 1), ('dock', 1), ('extenders', 1), ('auto', 1), ('reboots', 1), ('issue', 1), ('card', 1), ('whereas', 1), ('ali', 1), ('julia', 1), ('thing', 1)]\n",
            "Opinions:  []\n",
            "Intensifier:  []\n"
          ]
        }
      ]
    },
    {
      "cell_type": "markdown",
      "source": [
        "### Validating rule 6\n",
        "$ \\{{NNS><JJ>}\\} $  "
      ],
      "metadata": {
        "id": "56ugdmrOv2kY"
      }
    },
    {
      "cell_type": "code",
      "source": [
        "aspect , opinion , intensifier = Validate_chunking( sample_data ,  str(rule_new[5]))"
      ],
      "metadata": {
        "colab": {
          "base_uri": "https://localhost:8080/"
        },
        "id": "7Rdnz4EMxvz4",
        "outputId": "6a902c8b-5951-4782-8899-29c97752b008"
      },
      "execution_count": null,
      "outputs": [
        {
          "output_type": "stream",
          "name": "stdout",
          "text": [
            "Aspects:  [('micro', 1)]\n",
            "Opinions:  [('usb', 1)]\n",
            "Intensifier:  []\n"
          ]
        }
      ]
    },
    {
      "cell_type": "markdown",
      "source": [
        "### Validating rule 7\n",
        "$ \\{ <NNS><VB.*>\\} $  "
      ],
      "metadata": {
        "id": "MAvodtQBv5qz"
      }
    },
    {
      "cell_type": "code",
      "source": [
        "aspect , opinion , intensifier = Validate_chunking( sample_data ,  str(rule_new[6]))"
      ],
      "metadata": {
        "colab": {
          "base_uri": "https://localhost:8080/"
        },
        "id": "K4WwgcLFyUVw",
        "outputId": "dee9a959-8270-4421-cc64-d5641d3e80ca"
      },
      "execution_count": null,
      "outputs": [
        {
          "output_type": "stream",
          "name": "stdout",
          "text": [
            "Aspects:  [('i', 37), ('people', 2), ('lte', 1), ('keyes', 1), ('others', 1), ('julia', 1), ('smartphones', 1), ('data', 1), ('review', 1), ('thats', 1)]\n",
            "Opinions:  []\n",
            "Intensifier:  []\n"
          ]
        }
      ]
    },
    {
      "cell_type": "markdown",
      "source": [
        "### Validating rule 8\n",
        "$ \\{\\} $  "
      ],
      "metadata": {
        "id": "IDeiZO6fv7qE"
      }
    },
    {
      "cell_type": "code",
      "source": [
        "aspect , opinion , intensifier = Validate_chunking( sample_data ,  str(rule_new[7]))"
      ],
      "metadata": {
        "colab": {
          "base_uri": "https://localhost:8080/"
        },
        "id": "mEWUMgflyrJQ",
        "outputId": "0fa947d6-9dcd-4ec0-f760-5b3fe1ab626f"
      },
      "execution_count": null,
      "outputs": [
        {
          "output_type": "stream",
          "name": "stdout",
          "text": [
            "Aspects:  [('work', 8), ('case', 6), ('look', 4), ('product', 3), ('time', 3), ('wa', 3), ('feel', 3), ('ha', 3), ('brand', 3), ('anything', 3), ('bit', 2), ('micro', 2), ('offer', 2), ('screen', 2), ('[', 2)]\n",
            "Opinions:  [('great', 10), ('i', 5), ('new', 5), ('free', 4), ('usb', 3), ('nice', 3), ('fit', 3), ('heavy', 2), ('due', 2), ('slim', 2), ('wa', 2), ('fine', 2), ('other', 2), ('high', 2), ('compatible', 1)]\n",
            "Intensifier:  []\n"
          ]
        }
      ]
    },
    {
      "cell_type": "markdown",
      "source": [
        "### Validating rule 9\n",
        "$ \\{\\} $  "
      ],
      "metadata": {
        "id": "y9smudMJv-nE"
      }
    },
    {
      "cell_type": "code",
      "source": [
        "aspect , opinion , intensifier = Validate_chunking( sample_data ,  str(rule_new[8]))"
      ],
      "metadata": {
        "colab": {
          "base_uri": "https://localhost:8080/"
        },
        "id": "Cvjj548Vys3d",
        "outputId": "c5fcc2e0-cc1b-458d-dcb6-86493dc711d3"
      },
      "execution_count": null,
      "outputs": [
        {
          "output_type": "stream",
          "name": "stdout",
          "text": [
            "Aspects:  [('case', 24), ('phone', 7), ('price', 4), ('battery', 4), ('screen', 3), ('glass', 3), ('product', 3), ('grip', 3), ('device', 2), ('downside', 2), ('shell', 2), ('review', 2), ('moto', 2), ('thing', 2), ('fit', 2)]\n",
            "Opinions:  []\n",
            "Intensifier:  []\n"
          ]
        }
      ]
    },
    {
      "cell_type": "markdown",
      "source": [
        "### Validating rule 10\n",
        "$ \\{\\} $  "
      ],
      "metadata": {
        "id": "2YXoRGsCwAtG"
      }
    },
    {
      "cell_type": "code",
      "source": [
        "aspect , opinion , intensifier = Validate_chunking( sample_data ,  str(rule_new[9]))"
      ],
      "metadata": {
        "colab": {
          "base_uri": "https://localhost:8080/"
        },
        "id": "xI9-ub3LyuVF",
        "outputId": "85603875-d03a-4ca6-dd29-cbd5099a1d64"
      },
      "execution_count": null,
      "outputs": [
        {
          "output_type": "stream",
          "name": "stdout",
          "text": [
            "Aspects:  []\n",
            "Opinions:  [('good', 19), ('i', 9), ('nice', 6), ('easy', 5), ('protective', 4), ('fine', 4), ('pleased', 4), ('sure', 4), ('great', 3), ('bulky', 3), ('much', 3), ('bad', 3), ('impressed', 3), ('happy', 3), ('difficult', 2)]\n",
            "Intensifier:  [('very', 52), ('so', 17), ('not', 15), ('too', 14), ('really', 8), ('pretty', 6), (\"n't\", 6), ('just', 6), ('most', 4), ('more', 3), ('also', 3), ('extremely', 3), ('yr', 2), ('once', 2), ('still', 2)]\n"
          ]
        }
      ]
    },
    {
      "cell_type": "markdown",
      "source": [
        "### Validating rule 11\n",
        "$ \\{\\} $  "
      ],
      "metadata": {
        "id": "MbVglp-kwCUW"
      }
    },
    {
      "cell_type": "code",
      "source": [
        "aspect , opinion , intensifier = Validate_chunking( sample_data ,  str(rule_new[10]))"
      ],
      "metadata": {
        "colab": {
          "base_uri": "https://localhost:8080/"
        },
        "id": "cyNzN96YywX0",
        "outputId": "44da8e02-5d67-44ba-ca2e-7ab8a5aa1b2a"
      },
      "execution_count": null,
      "outputs": [
        {
          "output_type": "stream",
          "name": "stdout",
          "text": [
            "Aspects:  []\n",
            "Opinions:  []\n",
            "Intensifier:  [('not', 4), ('just', 4), ('still', 3), ('also', 1), ('visually', 1), ('even', 1), ('already', 1), ('potentially', 1), ('well', 1), ('therefore', 1), ('hard', 1), ('definitely', 1), ('wireless', 1), ('seriously', 1), ('always', 1)]\n"
          ]
        }
      ]
    },
    {
      "cell_type": "markdown",
      "source": [
        "#### Now let's test the same on 1 percent of corpus "
      ],
      "metadata": {
        "id": "OSRp_FCYyzEc"
      }
    },
    {
      "cell_type": "code",
      "source": [
        "aspects = []\n",
        "opinions = []\n",
        "intensifiers = []\n",
        "\n",
        "sample_data_new = random.sample(sent , int(len(sent)*0.01))\n",
        "\n",
        "for i in range(11):\n",
        "  aspect , opinion , intensifier = Validate_chunking( sample_data_new ,  str(rule_new[i]))\n",
        "  if len(aspect) == 0:\n",
        "    aspects.append(False)\n",
        "  else:\n",
        "    aspects.append(True)\n",
        "  \n",
        "  if len(opinion) == 0:\n",
        "    opinions.append(False)\n",
        "  else:\n",
        "    opinions.append(True)\n",
        "\n",
        "  if len(intensifier) == 0:\n",
        "    intensifiers.append(False)\n",
        "  else:\n",
        "    intensifiers.append(True)"
      ],
      "metadata": {
        "colab": {
          "base_uri": "https://localhost:8080/"
        },
        "id": "9jn-OzeZyxcR",
        "outputId": "6c7c5689-6b69-4f5f-f6c2-81f632ccc5ee"
      },
      "execution_count": null,
      "outputs": [
        {
          "output_type": "stream",
          "name": "stdout",
          "text": [
            "Aspects:  [('case', 2027), ('*', 984), ('phone', 915), ('product', 874), ('i', 849), ('protector', 604), ('time', 581), ('quality', 575), ('screen', 500), ('protection', 460), ('battery', 442), ('charger', 416), ('price', 381), ('fit', 312), ('thing', 309)]\n",
            "Opinions:  [('great', 1584), ('good', 1351), ('other', 719), ('nice', 585), ('little', 465), ('few', 419), ('same', 386), ('new', 377), ('usb', 340), ('screen', 339), ('only', 338), ('i', 316), ('first', 304), ('excellent', 298), ('different', 284)]\n",
            "Intensifier:  []\n",
            "Aspects:  [('i', 13287), ('phone', 7470), ('case', 7131), ('screen', 2447), ('product', 2149), ('protector', 1648), ('time', 1535), ('work', 1474), ('battery', 1418), ('iphone', 1274), ('*', 1124), ('charger', 1094), ('wa', 1091), ('price', 1086), ('quality', 983)]\n",
            "Opinions:  []\n",
            "Intensifier:  []\n",
            "Aspects:  [('i', 196), ('phone', 188), ('something', 171), ('case', 133), ('cable', 116), ('anything', 78), ('port', 77), ('everything', 73), ('nothing', 63), ('mine', 52), ('glass', 50), ('way', 49), ('edge', 47), ('battery', 47), ('picture', 44)]\n",
            "Opinions:  []\n",
            "Intensifier:  []\n",
            "Aspects:  [('i', 9658), ('case', 1483), ('phone', 729), ('wa', 336), ('protector', 324), ('ha', 282), ('product', 253), ('screen', 232), ('button', 217), ('battery', 181), ('charger', 156), ('cable', 144), ('thing', 143), ('color', 134), ('quality', 130)]\n",
            "Opinions:  []\n",
            "Intensifier:  []\n",
            "Aspects:  [('i', 162), ('thing', 27), ('wa', 21), ('case', 19), ('phone', 19), ('time', 17), ('data', 13), ('lens', 12), ('complaint', 11), ('thanks', 9), ('something', 9), ('reason', 7), ('product', 7), ('issue', 7), ('device', 6)]\n",
            "Opinions:  []\n",
            "Intensifier:  []\n",
            "Aspects:  [('wa', 6), ('others', 4), ('backwards', 3), ('electronics', 3), ('people', 2), ('smartphones', 2), ('micro', 2), ('protects', 2), ('plantronics', 2), ('.....', 2), ('samsungs', 1), ('yr', 1), ('ankers', 1), ('deserves', 1), ('charger/includes', 1)]\n",
            "Opinions:  [('due', 4), ('such', 4), ('i', 4), ('active', 3), ('usb', 2), ('universal', 2), ('wrong', 2), ('available', 2), ('compatible', 2), ('great', 2), ('full', 2), ('aware', 1), ('s', 1), ('wireless', 1), ('old', 1)]\n",
            "Intensifier:  []\n",
            "Aspects:  [('i', 1618), ('others', 84), ('people', 84), ('wa', 30), ('lens', 19), ('thanks', 13), ('doe', 9), ('smartphones', 8), ('data', 8), ('review', 7), ('thats', 7), ('cut-outs', 7), ('apps', 7), ('ta', 7), ('iphones', 6)]\n",
            "Opinions:  []\n",
            "Intensifier:  []\n",
            "Aspects:  [('work', 371), ('phone', 158), ('look', 148), ('wa', 135), ('bit', 133), ('case', 107), ('air', 61), ('brand', 53), ('something', 50), ('time', 48), ('feel', 39), ('micro', 39), ('%', 36), ('nothing', 33), ('year', 27)]\n",
            "Opinions:  [('great', 503), ('i', 120), ('good', 107), ('usb', 74), ('bubble', 63), ('new', 56), ('last', 52), ('free', 51), ('fit', 47), ('due', 46), ('available', 38), ('wa', 37), ('old', 34), ('safe', 33), ('other', 33)]\n",
            "Intensifier:  []\n",
            "Aspects:  [('case', 895), ('phone', 316), ('product', 164), ('protector', 127), ('screen', 123), ('quality', 98), ('battery', 91), ('thing', 90), ('charger', 82), ('color', 81), ('camera', 64), ('cable', 63), ('price', 62), ('button', 61), ('device', 52)]\n",
            "Opinions:  []\n",
            "Intensifier:  []\n",
            "Aspects:  []\n",
            "Opinions:  [('good', 647), ('i', 415), ('nice', 340), ('much', 298), ('easy', 263), ('happy', 223), ('sure', 130), ('great', 120), ('pleased', 109), ('thin', 98), ('durable', 96), ('many', 96), ('bad', 92), ('sturdy', 91), ('hard', 89)]\n",
            "Intensifier:  [('very', 2299), ('so', 913), ('not', 754), ('too', 564), ('really', 474), ('more', 285), ('pretty', 256), (\"n't\", 160), ('just', 151), ('most', 112), ('extremely', 106), ('quite', 103), ('still', 98), ('also', 71), ('only', 54)]\n",
            "Aspects:  []\n",
            "Opinions:  []\n",
            "Intensifier:  [('not', 219), ('still', 120), ('just', 74), (\"n't\", 52), ('constantly', 28), ('only', 28), ('always', 22), ('now', 20), ('actually', 20), ('even', 20), ('fast', 19), ('also', 16), ('already', 16), ('really', 16), ('currently', 15)]\n"
          ]
        }
      ]
    },
    {
      "cell_type": "code",
      "source": [
        "aspects, opinions, intensifiers"
      ],
      "metadata": {
        "colab": {
          "base_uri": "https://localhost:8080/"
        },
        "id": "nFx58ZFlzKW_",
        "outputId": "74618e8f-ae20-47ed-82c9-036f72d899be"
      },
      "execution_count": null,
      "outputs": [
        {
          "output_type": "execute_result",
          "data": {
            "text/plain": [
              "([True, True, True, True, True, True, True, True, True, False, False],\n",
              " [True, False, False, False, False, True, False, True, False, True, False],\n",
              " [False, False, False, False, False, False, False, False, False, True, True])"
            ]
          },
          "metadata": {},
          "execution_count": 68
        }
      ]
    },
    {
      "cell_type": "markdown",
      "source": [
        "### Result"
      ],
      "metadata": {
        "id": "zepnOVfh-rnp"
      }
    },
    {
      "cell_type": "code",
      "source": [
        "import pandas as pd\n",
        "d = {\"Rule\" : rule , \"Aspect\":aspects , \"Opinion\": opinions, \"Intensifier\": intensifiers }\n",
        "\n",
        "pd.DataFrame(data=d)"
      ],
      "metadata": {
        "colab": {
          "base_uri": "https://localhost:8080/",
          "height": 394
        },
        "id": "eAuS4oQyiRV_",
        "outputId": "6132502a-605e-4fee-f9ce-64e0c59985e0"
      },
      "execution_count": null,
      "outputs": [
        {
          "output_type": "execute_result",
          "data": {
            "text/plain": [
              "              Rule  Aspect  Opinion  Intensifier\n",
              "0    {<JJ><NN.*>+}    True     True        False\n",
              "1        {<NN.*>+}    True    False        False\n",
              "2   {<VB.*><NN.*>}    True    False        False\n",
              "3   {<NN.*><VB.*>}    True    False        False\n",
              "4      {<NN><NNS>}    True    False        False\n",
              "5     {<NNS> <JJ>}    True     True        False\n",
              "6    {<NNS><VB.*>}    True    False        False\n",
              "7     {<NN.*><JJ>}    True     True        False\n",
              "8    {<NN.*><VBZ>}    True    False        False\n",
              "9    {<RB.*><JJ>+}   False     True         True\n",
              "10     {<RB><VBG>}   False    False         True"
            ],
            "text/html": [
              "\n",
              "  <div id=\"df-26112b92-1a8a-4211-bc2a-674c92b3bd9f\">\n",
              "    <div class=\"colab-df-container\">\n",
              "      <div>\n",
              "<style scoped>\n",
              "    .dataframe tbody tr th:only-of-type {\n",
              "        vertical-align: middle;\n",
              "    }\n",
              "\n",
              "    .dataframe tbody tr th {\n",
              "        vertical-align: top;\n",
              "    }\n",
              "\n",
              "    .dataframe thead th {\n",
              "        text-align: right;\n",
              "    }\n",
              "</style>\n",
              "<table border=\"1\" class=\"dataframe\">\n",
              "  <thead>\n",
              "    <tr style=\"text-align: right;\">\n",
              "      <th></th>\n",
              "      <th>Rule</th>\n",
              "      <th>Aspect</th>\n",
              "      <th>Opinion</th>\n",
              "      <th>Intensifier</th>\n",
              "    </tr>\n",
              "  </thead>\n",
              "  <tbody>\n",
              "    <tr>\n",
              "      <th>0</th>\n",
              "      <td>{&lt;JJ&gt;&lt;NN.*&gt;+}</td>\n",
              "      <td>True</td>\n",
              "      <td>True</td>\n",
              "      <td>False</td>\n",
              "    </tr>\n",
              "    <tr>\n",
              "      <th>1</th>\n",
              "      <td>{&lt;NN.*&gt;+}</td>\n",
              "      <td>True</td>\n",
              "      <td>False</td>\n",
              "      <td>False</td>\n",
              "    </tr>\n",
              "    <tr>\n",
              "      <th>2</th>\n",
              "      <td>{&lt;VB.*&gt;&lt;NN.*&gt;}</td>\n",
              "      <td>True</td>\n",
              "      <td>False</td>\n",
              "      <td>False</td>\n",
              "    </tr>\n",
              "    <tr>\n",
              "      <th>3</th>\n",
              "      <td>{&lt;NN.*&gt;&lt;VB.*&gt;}</td>\n",
              "      <td>True</td>\n",
              "      <td>False</td>\n",
              "      <td>False</td>\n",
              "    </tr>\n",
              "    <tr>\n",
              "      <th>4</th>\n",
              "      <td>{&lt;NN&gt;&lt;NNS&gt;}</td>\n",
              "      <td>True</td>\n",
              "      <td>False</td>\n",
              "      <td>False</td>\n",
              "    </tr>\n",
              "    <tr>\n",
              "      <th>5</th>\n",
              "      <td>{&lt;NNS&gt; &lt;JJ&gt;}</td>\n",
              "      <td>True</td>\n",
              "      <td>True</td>\n",
              "      <td>False</td>\n",
              "    </tr>\n",
              "    <tr>\n",
              "      <th>6</th>\n",
              "      <td>{&lt;NNS&gt;&lt;VB.*&gt;}</td>\n",
              "      <td>True</td>\n",
              "      <td>False</td>\n",
              "      <td>False</td>\n",
              "    </tr>\n",
              "    <tr>\n",
              "      <th>7</th>\n",
              "      <td>{&lt;NN.*&gt;&lt;JJ&gt;}</td>\n",
              "      <td>True</td>\n",
              "      <td>True</td>\n",
              "      <td>False</td>\n",
              "    </tr>\n",
              "    <tr>\n",
              "      <th>8</th>\n",
              "      <td>{&lt;NN.*&gt;&lt;VBZ&gt;}</td>\n",
              "      <td>True</td>\n",
              "      <td>False</td>\n",
              "      <td>False</td>\n",
              "    </tr>\n",
              "    <tr>\n",
              "      <th>9</th>\n",
              "      <td>{&lt;RB.*&gt;&lt;JJ&gt;+}</td>\n",
              "      <td>False</td>\n",
              "      <td>True</td>\n",
              "      <td>True</td>\n",
              "    </tr>\n",
              "    <tr>\n",
              "      <th>10</th>\n",
              "      <td>{&lt;RB&gt;&lt;VBG&gt;}</td>\n",
              "      <td>False</td>\n",
              "      <td>False</td>\n",
              "      <td>True</td>\n",
              "    </tr>\n",
              "  </tbody>\n",
              "</table>\n",
              "</div>\n",
              "      <button class=\"colab-df-convert\" onclick=\"convertToInteractive('df-26112b92-1a8a-4211-bc2a-674c92b3bd9f')\"\n",
              "              title=\"Convert this dataframe to an interactive table.\"\n",
              "              style=\"display:none;\">\n",
              "        \n",
              "  <svg xmlns=\"http://www.w3.org/2000/svg\" height=\"24px\"viewBox=\"0 0 24 24\"\n",
              "       width=\"24px\">\n",
              "    <path d=\"M0 0h24v24H0V0z\" fill=\"none\"/>\n",
              "    <path d=\"M18.56 5.44l.94 2.06.94-2.06 2.06-.94-2.06-.94-.94-2.06-.94 2.06-2.06.94zm-11 1L8.5 8.5l.94-2.06 2.06-.94-2.06-.94L8.5 2.5l-.94 2.06-2.06.94zm10 10l.94 2.06.94-2.06 2.06-.94-2.06-.94-.94-2.06-.94 2.06-2.06.94z\"/><path d=\"M17.41 7.96l-1.37-1.37c-.4-.4-.92-.59-1.43-.59-.52 0-1.04.2-1.43.59L10.3 9.45l-7.72 7.72c-.78.78-.78 2.05 0 2.83L4 21.41c.39.39.9.59 1.41.59.51 0 1.02-.2 1.41-.59l7.78-7.78 2.81-2.81c.8-.78.8-2.07 0-2.86zM5.41 20L4 18.59l7.72-7.72 1.47 1.35L5.41 20z\"/>\n",
              "  </svg>\n",
              "      </button>\n",
              "      \n",
              "  <style>\n",
              "    .colab-df-container {\n",
              "      display:flex;\n",
              "      flex-wrap:wrap;\n",
              "      gap: 12px;\n",
              "    }\n",
              "\n",
              "    .colab-df-convert {\n",
              "      background-color: #E8F0FE;\n",
              "      border: none;\n",
              "      border-radius: 50%;\n",
              "      cursor: pointer;\n",
              "      display: none;\n",
              "      fill: #1967D2;\n",
              "      height: 32px;\n",
              "      padding: 0 0 0 0;\n",
              "      width: 32px;\n",
              "    }\n",
              "\n",
              "    .colab-df-convert:hover {\n",
              "      background-color: #E2EBFA;\n",
              "      box-shadow: 0px 1px 2px rgba(60, 64, 67, 0.3), 0px 1px 3px 1px rgba(60, 64, 67, 0.15);\n",
              "      fill: #174EA6;\n",
              "    }\n",
              "\n",
              "    [theme=dark] .colab-df-convert {\n",
              "      background-color: #3B4455;\n",
              "      fill: #D2E3FC;\n",
              "    }\n",
              "\n",
              "    [theme=dark] .colab-df-convert:hover {\n",
              "      background-color: #434B5C;\n",
              "      box-shadow: 0px 1px 3px 1px rgba(0, 0, 0, 0.15);\n",
              "      filter: drop-shadow(0px 1px 2px rgba(0, 0, 0, 0.3));\n",
              "      fill: #FFFFFF;\n",
              "    }\n",
              "  </style>\n",
              "\n",
              "      <script>\n",
              "        const buttonEl =\n",
              "          document.querySelector('#df-26112b92-1a8a-4211-bc2a-674c92b3bd9f button.colab-df-convert');\n",
              "        buttonEl.style.display =\n",
              "          google.colab.kernel.accessAllowed ? 'block' : 'none';\n",
              "\n",
              "        async function convertToInteractive(key) {\n",
              "          const element = document.querySelector('#df-26112b92-1a8a-4211-bc2a-674c92b3bd9f');\n",
              "          const dataTable =\n",
              "            await google.colab.kernel.invokeFunction('convertToInteractive',\n",
              "                                                     [key], {});\n",
              "          if (!dataTable) return;\n",
              "\n",
              "          const docLinkHtml = 'Like what you see? Visit the ' +\n",
              "            '<a target=\"_blank\" href=https://colab.research.google.com/notebooks/data_table.ipynb>data table notebook</a>'\n",
              "            + ' to learn more about interactive tables.';\n",
              "          element.innerHTML = '';\n",
              "          dataTable['output_type'] = 'display_data';\n",
              "          await google.colab.output.renderOutput(dataTable, element);\n",
              "          const docLink = document.createElement('div');\n",
              "          docLink.innerHTML = docLinkHtml;\n",
              "          element.appendChild(docLink);\n",
              "        }\n",
              "      </script>\n",
              "    </div>\n",
              "  </div>\n",
              "  "
            ]
          },
          "metadata": {},
          "execution_count": 71
        }
      ]
    },
    {
      "cell_type": "code",
      "source": [
        "  {<JJ.*><NN.*>}\n",
        "        {<NN.*><JJ.*>}\n",
        "\n",
        "        {<NN.*>+}\n",
        "\n",
        "        {<RB.*><JJ.*>}\n",
        "        {<RB.*><VB.*>}"
      ],
      "metadata": {
        "colab": {
          "base_uri": "https://localhost:8080/"
        },
        "id": "dbCepDLQ_LH9",
        "outputId": "6e2059a0-737e-4ee4-ac1a-b7dab55ead10"
      },
      "execution_count": null,
      "outputs": [
        {
          "output_type": "execute_result",
          "data": {
            "text/plain": [
              "['{<JJ><NN.*>+}',\n",
              " '{<NN.*>+}',\n",
              " '{<VB.*><NN.*>}',\n",
              " '{<NN.*><VB.*>}',\n",
              " '{<NN><NNS>}',\n",
              " '{<NNS> <JJ>}',\n",
              " '{<NNS><VB.*>}',\n",
              " '{<NN.*><JJ>}',\n",
              " '{<NN.*><VBZ>}',\n",
              " '{<RB.*><JJ>+}',\n",
              " '{<RB><VBG>}']"
            ]
          },
          "metadata": {},
          "execution_count": 69
        }
      ]
    },
    {
      "cell_type": "markdown",
      "source": [
        "Apart form these rules few other rules can be:\n",
        "\n",
        "Aspect\n",
        "- $\\{<RB.?>*<VB.?>*<NNP>+<NN>?\\}$\n",
        "\n",
        "Opinion\n",
        "-  $\\{<JJ. *><NN. *>\\}$ \n",
        "\n",
        "Intensifier \n",
        "- $\\{<RB. *><JJ. *>} {<RB. *><VB. *>\\}\n",
        "\n",
        "- \\{<RBR. *><JJ. *>} {<RBR. *><VB. *>\\}\n",
        "\n",
        "- \\{<RBS. *><JJ. *>} {<RBS. *><VB. *>\\}$\n"
      ],
      "metadata": {
        "id": "iaPRNpxbHYDJ"
      }
    },
    {
      "cell_type": "code",
      "source": [
        "def chunkRule( corpus , rule):\n",
        "\taspect_dict = Counter()\n",
        "\topinion_dict = Counter()\n",
        "\tintensifier_dict = Counter()\n",
        "\t\n",
        "\tlemma = WordNetLemmatizer()\n",
        "\n",
        "\ti = 1\n",
        "\n",
        "\tfor sentence in corpus:\n",
        "\t\ttokens = nltk.word_tokenize(sentence.lower())\n",
        "\t\tlemmatized_tokens = [lemma.lemmatize(token) for token in tokens]\n",
        "\t\ttags = nltk.pos_tag(lemmatized_tokens)\n",
        "\t\t\n",
        "\t\t\n",
        "\t\tcp = nltk.RegexpParser(rule)\n",
        "\t\tres = cp.parse(tags)\n",
        "\t\tfor x in res:\n",
        "\t\t\tif type(x) == nltk.tree.Tree:\n",
        "\t\t\t\tfor y in x.leaves():\n",
        "\t\t\t\t\tif 'NN' in y[1]: \n",
        "\t\t\t\t\t\taspect = [y[0]]\n",
        "\t\t\t\t\t\taspect_dict.update(aspect)\n",
        "\n",
        "\t\t\t\t\telif 'JJ' in y[1]:\n",
        "\t\t\t\t\t\topinion = [y[0]]\n",
        "\t\t\t\t\t\topinion_dict.update(opinion)\n",
        "\t\t\t\t\n",
        "\t\t\t\t\telif 'RB' in y[1]: \n",
        "\t\t\t\t\t\tintensifier = [y[0]]\n",
        "\t\t\t\t\t\tintensifier_dict.update(intensifier)\n",
        "\t\t\t\t\n",
        "\t\t\t\t\n",
        "\t\t\tprint(i,end=' sentences processed \\r')\n",
        "\t\t\ti += 1\n",
        "\n",
        "\tprint(\"Top_15_Aspects: \", aspect_dict.most_common(15))\n",
        "\tprint(\"Top_15_Opinions: \", opinion_dict.most_common(15))\n",
        "\tprint(\"Top_15_Intensifier: \", intensifier_dict.most_common(15))\n",
        "\t\n",
        "\treturn (aspect_dict, opinion_dict, intensifier_dict)\n"
      ],
      "metadata": {
        "id": "2wFocqeMEsAM"
      },
      "execution_count": null,
      "outputs": []
    },
    {
      "cell_type": "markdown",
      "source": [
        "Let's run this on same 1 percent data"
      ],
      "metadata": {
        "id": "EJAsrIfROPYJ"
      }
    },
    {
      "cell_type": "code",
      "source": [
        "rule  = r\"\"\" ASPECT: \n",
        "                  {<RB.?>*<VB.?>*<NNP>+<NN>?}\n",
        "                  {<JJ.*><NN.*>} \n",
        "                  {<NN.*>+} \n",
        "                  {<RBS.*><JJ.*>} \n",
        "                  {<RBS.*><VB.*>} \n",
        "                  {<RBR.*><JJ.*>} \n",
        "                  {<RBR.*><VB.*>} \n",
        "                  {<RB.*><JJ.*>} \n",
        "                  {<RB.*><VB.*>}\"\"\""
      ],
      "metadata": {
        "id": "AyYKiH9vPNZW"
      },
      "execution_count": null,
      "outputs": []
    },
    {
      "cell_type": "code",
      "source": [
        "aspect, opinion, intensifier = chunkRule( sample_data_new , str(rule))"
      ],
      "metadata": {
        "colab": {
          "base_uri": "https://localhost:8080/"
        },
        "id": "hUQLwpRnOJyh",
        "outputId": "57ed2b1b-f18d-4f73-e7a7-f9a2d7d41edf"
      },
      "execution_count": null,
      "outputs": [
        {
          "output_type": "stream",
          "name": "stdout",
          "text": [
            "Top_15_Aspects:  [('i', 13287), ('phone', 7470), ('case', 7131), ('screen', 2447), ('product', 2149), ('protector', 1648), ('time', 1535), ('work', 1474), ('battery', 1418), ('iphone', 1274), ('*', 1124), ('charger', 1094), ('wa', 1091), ('price', 1086), ('quality', 983)]\n",
            "Top_15_Opinions:  [('good', 1746), ('great', 1660), ('nice', 786), ('other', 720), ('i', 713), ('little', 480), ('much', 431), ('few', 421), ('new', 389), ('same', 387), ('best', 364), ('easy', 345), ('screen', 342), ('usb', 341), ('only', 338)]\n",
            "Top_15_Intensifier:  [(\"n't\", 3239), ('not', 2578), ('very', 1694), ('just', 978), ('so', 885), ('really', 809), ('i', 734), ('still', 605), ('also', 593), ('too', 514), ('only', 396), ('well', 347), ('even', 324), ('never', 315), ('always', 278)]\n"
          ]
        }
      ]
    }
  ]
}